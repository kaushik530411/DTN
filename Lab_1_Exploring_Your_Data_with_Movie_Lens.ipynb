{
  "nbformat": 4,
  "nbformat_minor": 0,
  "metadata": {
    "colab": {
      "name": "Lab 1: Exploring Your Data with Movie Lens",
      "provenance": [],
      "collapsed_sections": [
        "copyright",
        "xxOhpvdW6TbX",
        "exercise-1-key-1"
      ],
      "toc_visible": true,
      "include_colab_link": true
    },
    "kernelspec": {
      "name": "python3",
      "display_name": "Python 3"
    },
    "accelerator": "GPU"
  },
  "cells": [
    {
      "cell_type": "markdown",
      "metadata": {
        "id": "view-in-github",
        "colab_type": "text"
      },
      "source": [
        "<a href=\"https://colab.research.google.com/github/kaushik530411/DTN/blob/master/Lab_1_Exploring_Your_Data_with_Movie_Lens.ipynb\" target=\"_parent\"><img src=\"https://colab.research.google.com/assets/colab-badge.svg\" alt=\"Open In Colab\"/></a>"
      ]
    },
    {
      "cell_type": "markdown",
      "metadata": {
        "colab_type": "text",
        "id": "copyright"
      },
      "source": [
        "#### Copyright 2019 Google LLC."
      ]
    },
    {
      "cell_type": "code",
      "metadata": {
        "colab_type": "code",
        "id": "JxI782D_VLzp",
        "colab": {}
      },
      "source": [
        "# Licensed under the Apache License, Version 2.0 (the \"License\");\n",
        "# you may not use this file except in compliance with the License.\n",
        "# You may obtain a copy of the License at\n",
        "#\n",
        "# https://www.apache.org/licenses/LICENSE-2.0\n",
        "#\n",
        "# Unless required by applicable law or agreed to in writing, software\n",
        "# distributed under the License is distributed on an \"AS IS\" BASIS,\n",
        "# WITHOUT WARRANTIES OR CONDITIONS OF ANY KIND, either express or implied.\n",
        "# See the License for the specific language governing permissions and\n",
        "# limitations under the License."
      ],
      "execution_count": 0,
      "outputs": []
    },
    {
      "cell_type": "markdown",
      "metadata": {
        "colab_type": "text",
        "id": "MKsRDH5ZUdfasdv"
      },
      "source": [
        "# Exploring Your Data with Movie Lens"
      ]
    },
    {
      "cell_type": "markdown",
      "metadata": {
        "colab_type": "text",
        "id": "43534tdfgs-v"
      },
      "source": [
        "Pandas is a powerful and popular Python library that is used to analyze, manipulate, and better understand table data. In this colab we'll explore the Pandas toolkit for operations such as filtering, grouping, merging, analysis.\n"
      ]
    },
    {
      "cell_type": "markdown",
      "metadata": {
        "colab_type": "text",
        "id": "overview"
      },
      "source": [
        "## Overview"
      ]
    },
    {
      "cell_type": "markdown",
      "metadata": {
        "colab_type": "text",
        "id": "rY7emKinFRCr"
      },
      "source": [
        "###Learning Objectives\n",
        "* Use Colab to write and execute Python code integrating with Google Drive. \n",
        "* Introduce the `DataFrame` and `Series` data structures from the *Pandas* library.\n",
        "* Analyze the data with descriptive statistics, and visualize the data with graphics\n"
      ]
    },
    {
      "cell_type": "markdown",
      "metadata": {
        "colab_type": "text",
        "id": "duration"
      },
      "source": [
        "### Estimated Duration\n",
        "\n",
        "We expect you to spend 3-5 hours completing this assignment.  We strongly encourage you to complete at least the first three exercises by mid-day on Friday so you can get help if needed."
      ]
    },
    {
      "cell_type": "markdown",
      "metadata": {
        "id": "6gKL1mrkyLux",
        "colab_type": "text"
      },
      "source": [
        "### Grading\n",
        "\n",
        "Exercises 1-7 are each worth 1 point.  Exercise 8 is worth 3 points."
      ]
    },
    {
      "cell_type": "markdown",
      "metadata": {
        "colab_type": "text",
        "id": "KqM1IXX-Qg19"
      },
      "source": [
        "## Colab\n",
        "\n",
        "\n"
      ]
    },
    {
      "cell_type": "markdown",
      "metadata": {
        "colab_type": "text",
        "id": "SvlbyEdQQipr"
      },
      "source": [
        "Colaboratory (Colab) is a cloud-based version of [Jupyter Notebook](https://jupyter.org/), where notebooks (which contain explanatory text and runnable code blocks), are stored on Google Drive. Notebooks are easy to share, comment,and edit just like a Google Doc, but allows you to run code blocks interactively.  If you prefer,A colab can be exported to github or to a Jupyter file."
      ]
    },
    {
      "cell_type": "markdown",
      "metadata": {
        "colab_type": "text",
        "id": "JyG45Qk3qQLS"
      },
      "source": [
        "### Cells\n",
        "A notebook is a list of cells. Cells contain either explanatory text or executable code and its output. Click a cell to select it."
      ]
    },
    {
      "cell_type": "markdown",
      "metadata": {
        "colab_type": "text",
        "id": "KR921S_OQSHG"
      },
      "source": [
        "#### Code cells\n",
        "\n",
        "Below is a **code cell**. Once the toolbar button indicates CONNECTED, click in the cell to select it and execute the contents in one of the following ways:\n",
        "\n",
        "* Click the **Play icon** in the left gutter of the cell;\n",
        "* Type **Cmd/Ctrl+Enter** to run the cell in place;\n",
        "* Type **Shift+Enter** to run the cell and move focus to the next cell (adding one if none exists); or\n",
        "* Type **Alt+Enter** to run the cell and insert a new code cell immediately below it.\n",
        "\n",
        "Select the **Runtime** menu to see additional options for running some or all cells \n"
      ]
    },
    {
      "cell_type": "code",
      "metadata": {
        "id": "Kd1iu8dpI0oG",
        "colab_type": "code",
        "outputId": "ab102a6d-298d-430d-877f-f308e353efa1",
        "colab": {
          "base_uri": "https://localhost:8080/",
          "height": 67
        }
      },
      "source": [
        "# Print Hello World\n",
        "print(\"Hello World\")\n",
        "\n",
        "# Do some basic computation\n",
        "x = 5\n",
        "y = x + 2\n",
        "print(y)\n",
        "\n",
        "# We can define Python functions\n",
        "def add_two(x):\n",
        "  return x+2\n",
        "print(add_two(20))"
      ],
      "execution_count": 0,
      "outputs": [
        {
          "output_type": "stream",
          "text": [
            "Hello World\n",
            "7\n",
            "22\n"
          ],
          "name": "stdout"
        }
      ]
    },
    {
      "cell_type": "markdown",
      "metadata": {
        "colab_type": "text",
        "id": "Id6tDF1HQSHD"
      },
      "source": [
        "#### Text cells\n",
        "\n",
        "Now that we've seen an example of a code cell, this is a **text cell**.\n",
        "\n",
        "To edit this text cell, **double-click** on it now. In edit mode, the left side of the cell contains markdown code. Notice there are extra asterisk characters. That's because Colab text cells use markdown syntax (described more below).\n",
        "\n",
        "Notice the icons in the upper left corner for formatting the text (size, bold, italics, format as code, link, image, indent, bullet, horizontal rule). You can either use an icon (e.g. B for bold) or you can type in the markdown code yourself (double asterisks to make the text bold). See the [markdown\n",
        "guide](/notebooks/markdown_guide.ipynb). Experiment by italicizing a word. To exit edit mode, click outside the edit area. \n",
        "\n"
      ]
    },
    {
      "cell_type": "markdown",
      "metadata": {
        "colab_type": "text",
        "id": "aro-UJgUQSH1"
      },
      "source": [
        "### Integration with Drive\n",
        "\n",
        "Colaboratory is integrated with Google Drive. Multiple people can share, comment, and collaborate on the same notebook.\n",
        "\n",
        "* The **SHARE** button (top-right of the toolbar) allows you to share the notebook and control permissions set on it.\n",
        "\n",
        "* **File->Save a Copy**  creates a copy of the notebook on Drive or Github.\n",
        "\n",
        "* **File->Save** saves the File to Drive. **File->Save and checkpoint** explicitly saves the file and will show up in the version history as pinned.  Checkpoints are also saved periodically but do not show up as pinned.  So by using this feature, you can make it easy to find a particlar checkpoint.\n",
        "\n",
        "* **File->Revision history** shows the notebook's revision history. \n",
        "\n",
        "* Multiple people can **collaboratively edit** a notebook at the same time. Like Google Docs, you can see collaborators both within the document (top right, left of the comments button) and within a cell (right of the cell). "
      ]
    },
    {
      "cell_type": "markdown",
      "metadata": {
        "colab_type": "text",
        "id": "4hfV37gxpP_c"
      },
      "source": [
        "### Commenting on a cell\n",
        "You can comment on a Colaboratory notebook like you would on a Google Document. Comments are attached to cells, and are displayed next to the cell they refer to. If you have **comment-only** permissions, you will see a comment button on the top right of the cell when you hover over it.\n",
        "\n",
        "If you have edit or comment permissions you can comment on a cell in one of three ways: \n",
        "\n",
        "1. Select a cell and click the comment button in the toolbar above the top-right corner of the cell.\n",
        "1. Right click a text cell and select **Add a comment** from the context menu.\n",
        "3. Use the shortcut **Ctrl+Shift+M** to add a comment to the currently selected cell. \n",
        "\n",
        "You can resolve and reply to comments, and you can target comments to specific collaborators by typing *+[email address]* (e.g., `+user@domain.com`). Addressed collaborators will be emailed. \n",
        "\n",
        "The Comment button in the top-right corner of the page shows all comments attached to the notebook."
      ]
    },
    {
      "cell_type": "markdown",
      "metadata": {
        "id": "FmuoONSu7ody",
        "colab_type": "text"
      },
      "source": [
        "### Running Cells\n",
        "You can run a single cell just by clicking on the \"play\" button by it.  By using the `RunTime` menu you can run all code cells, run all code cells before the current cell, run all code cells after the current cell, and other options.  Take a look at what is available.  \n",
        "\n",
        "Note that any function or variable that has been defined, will remain defined even if you delete the cell that was used to define it. To start fresh you can use `Restart and run all...` in the `RunTime` menu. This will be done automatically if you aren't actively using your colab."
      ]
    },
    {
      "cell_type": "markdown",
      "metadata": {
        "colab_type": "text",
        "id": "rHLcriKWLRe4"
      },
      "source": [
        "## Introduction to Pandas"
      ]
    },
    {
      "cell_type": "markdown",
      "metadata": {
        "colab_type": "text",
        "id": "kxDM3E2icDIg"
      },
      "source": [
        "Data typically comes in tables -- rows and columns. [*Pandas*](http://pandas.pydata.org/) is a Python library that is widely-used to manipulate table data. It makes it easy to handle all sorts of pre-processing we might want before feeding data to ML algorithms. \n",
        "Although a comprehensive introduction to the *Pandas* API would span many pages, the core concepts are fairly straightforward, and we'll present them below. For a more complete reference, the [*Pandas* docs site](http://pandas.pydata.org/pandas-docs/stable/index.html) contains extensive documentation and many tutorials.\n",
        "\n",
        "We start with some standard imports:"
      ]
    },
    {
      "cell_type": "code",
      "metadata": {
        "colab_type": "code",
        "id": "7X58hOMTUH-w",
        "colab": {}
      },
      "source": [
        "# To run this code, hover your mouse over the [ ] and click the arrow. \n",
        "import pandas as pd\n",
        "import numpy as np"
      ],
      "execution_count": 0,
      "outputs": []
    },
    {
      "cell_type": "markdown",
      "metadata": {
        "colab_type": "text",
        "id": "F3JYwMxdj9Ly"
      },
      "source": [
        "Download a csv file to your computer with movie metadata by selecting [this link](https://storage.cloud.google.com/amli/public/movies_metadata.csv?folder=true&organizationId=433637338589). This data came from [The Movie Database org (TMDB)](https://www.themoviedb.org/?language=en-US) via [Kaggle](https://www.kaggle.com/rounakbanik/the-movies-dataset). The code below will upload the file into your colab runtime environment by having you choose a file.  You only need to download the data once but each time your runtime starts up you will need to choose it again.\n",
        "\n",
        "__Note__:  The file is ~30MB in size, expect the download and upload to take a few minutes depending on your internet connection speed."
      ]
    },
    {
      "cell_type": "code",
      "metadata": {
        "id": "BTmiZXaYJXMV",
        "colab_type": "code",
        "outputId": "2f2afbc2-f60a-4225-8e0f-92eac03fed97",
        "colab": {
          "resources": {
            "http://localhost:8080/nbextensions/google.colab/files.js": {
              "data": "Ly8gQ29weXJpZ2h0IDIwMTcgR29vZ2xlIExMQwovLwovLyBMaWNlbnNlZCB1bmRlciB0aGUgQXBhY2hlIExpY2Vuc2UsIFZlcnNpb24gMi4wICh0aGUgIkxpY2Vuc2UiKTsKLy8geW91IG1heSBub3QgdXNlIHRoaXMgZmlsZSBleGNlcHQgaW4gY29tcGxpYW5jZSB3aXRoIHRoZSBMaWNlbnNlLgovLyBZb3UgbWF5IG9idGFpbiBhIGNvcHkgb2YgdGhlIExpY2Vuc2UgYXQKLy8KLy8gICAgICBodHRwOi8vd3d3LmFwYWNoZS5vcmcvbGljZW5zZXMvTElDRU5TRS0yLjAKLy8KLy8gVW5sZXNzIHJlcXVpcmVkIGJ5IGFwcGxpY2FibGUgbGF3IG9yIGFncmVlZCB0byBpbiB3cml0aW5nLCBzb2Z0d2FyZQovLyBkaXN0cmlidXRlZCB1bmRlciB0aGUgTGljZW5zZSBpcyBkaXN0cmlidXRlZCBvbiBhbiAiQVMgSVMiIEJBU0lTLAovLyBXSVRIT1VUIFdBUlJBTlRJRVMgT1IgQ09ORElUSU9OUyBPRiBBTlkgS0lORCwgZWl0aGVyIGV4cHJlc3Mgb3IgaW1wbGllZC4KLy8gU2VlIHRoZSBMaWNlbnNlIGZvciB0aGUgc3BlY2lmaWMgbGFuZ3VhZ2UgZ292ZXJuaW5nIHBlcm1pc3Npb25zIGFuZAovLyBsaW1pdGF0aW9ucyB1bmRlciB0aGUgTGljZW5zZS4KCi8qKgogKiBAZmlsZW92ZXJ2aWV3IEhlbHBlcnMgZm9yIGdvb2dsZS5jb2xhYiBQeXRob24gbW9kdWxlLgogKi8KKGZ1bmN0aW9uKHNjb3BlKSB7CmZ1bmN0aW9uIHNwYW4odGV4dCwgc3R5bGVBdHRyaWJ1dGVzID0ge30pIHsKICBjb25zdCBlbGVtZW50ID0gZG9jdW1lbnQuY3JlYXRlRWxlbWVudCgnc3BhbicpOwogIGVsZW1lbnQudGV4dENvbnRlbnQgPSB0ZXh0OwogIGZvciAoY29uc3Qga2V5IG9mIE9iamVjdC5rZXlzKHN0eWxlQXR0cmlidXRlcykpIHsKICAgIGVsZW1lbnQuc3R5bGVba2V5XSA9IHN0eWxlQXR0cmlidXRlc1trZXldOwogIH0KICByZXR1cm4gZWxlbWVudDsKfQoKLy8gTWF4IG51bWJlciBvZiBieXRlcyB3aGljaCB3aWxsIGJlIHVwbG9hZGVkIGF0IGEgdGltZS4KY29uc3QgTUFYX1BBWUxPQURfU0laRSA9IDEwMCAqIDEwMjQ7Ci8vIE1heCBhbW91bnQgb2YgdGltZSB0byBibG9jayB3YWl0aW5nIGZvciB0aGUgdXNlci4KY29uc3QgRklMRV9DSEFOR0VfVElNRU9VVF9NUyA9IDMwICogMTAwMDsKCmZ1bmN0aW9uIF91cGxvYWRGaWxlcyhpbnB1dElkLCBvdXRwdXRJZCkgewogIGNvbnN0IHN0ZXBzID0gdXBsb2FkRmlsZXNTdGVwKGlucHV0SWQsIG91dHB1dElkKTsKICBjb25zdCBvdXRwdXRFbGVtZW50ID0gZG9jdW1lbnQuZ2V0RWxlbWVudEJ5SWQob3V0cHV0SWQpOwogIC8vIENhY2hlIHN0ZXBzIG9uIHRoZSBvdXRwdXRFbGVtZW50IHRvIG1ha2UgaXQgYXZhaWxhYmxlIGZvciB0aGUgbmV4dCBjYWxsCiAgLy8gdG8gdXBsb2FkRmlsZXNDb250aW51ZSBmcm9tIFB5dGhvbi4KICBvdXRwdXRFbGVtZW50LnN0ZXBzID0gc3RlcHM7CgogIHJldHVybiBfdXBsb2FkRmlsZXNDb250aW51ZShvdXRwdXRJZCk7Cn0KCi8vIFRoaXMgaXMgcm91Z2hseSBhbiBhc3luYyBnZW5lcmF0b3IgKG5vdCBzdXBwb3J0ZWQgaW4gdGhlIGJyb3dzZXIgeWV0KSwKLy8gd2hlcmUgdGhlcmUgYXJlIG11bHRpcGxlIGFzeW5jaHJvbm91cyBzdGVwcyBhbmQgdGhlIFB5dGhvbiBzaWRlIGlzIGdvaW5nCi8vIHRvIHBvbGwgZm9yIGNvbXBsZXRpb24gb2YgZWFjaCBzdGVwLgovLyBUaGlzIHVzZXMgYSBQcm9taXNlIHRvIGJsb2NrIHRoZSBweXRob24gc2lkZSBvbiBjb21wbGV0aW9uIG9mIGVhY2ggc3RlcCwKLy8gdGhlbiBwYXNzZXMgdGhlIHJlc3VsdCBvZiB0aGUgcHJldmlvdXMgc3RlcCBhcyB0aGUgaW5wdXQgdG8gdGhlIG5leHQgc3RlcC4KZnVuY3Rpb24gX3VwbG9hZEZpbGVzQ29udGludWUob3V0cHV0SWQpIHsKICBjb25zdCBvdXRwdXRFbGVtZW50ID0gZG9jdW1lbnQuZ2V0RWxlbWVudEJ5SWQob3V0cHV0SWQpOwogIGNvbnN0IHN0ZXBzID0gb3V0cHV0RWxlbWVudC5zdGVwczsKCiAgY29uc3QgbmV4dCA9IHN0ZXBzLm5leHQob3V0cHV0RWxlbWVudC5sYXN0UHJvbWlzZVZhbHVlKTsKICByZXR1cm4gUHJvbWlzZS5yZXNvbHZlKG5leHQudmFsdWUucHJvbWlzZSkudGhlbigodmFsdWUpID0+IHsKICAgIC8vIENhY2hlIHRoZSBsYXN0IHByb21pc2UgdmFsdWUgdG8gbWFrZSBpdCBhdmFpbGFibGUgdG8gdGhlIG5leHQKICAgIC8vIHN0ZXAgb2YgdGhlIGdlbmVyYXRvci4KICAgIG91dHB1dEVsZW1lbnQubGFzdFByb21pc2VWYWx1ZSA9IHZhbHVlOwogICAgcmV0dXJuIG5leHQudmFsdWUucmVzcG9uc2U7CiAgfSk7Cn0KCi8qKgogKiBHZW5lcmF0b3IgZnVuY3Rpb24gd2hpY2ggaXMgY2FsbGVkIGJldHdlZW4gZWFjaCBhc3luYyBzdGVwIG9mIHRoZSB1cGxvYWQKICogcHJvY2Vzcy4KICogQHBhcmFtIHtzdHJpbmd9IGlucHV0SWQgRWxlbWVudCBJRCBvZiB0aGUgaW5wdXQgZmlsZSBwaWNrZXIgZWxlbWVudC4KICogQHBhcmFtIHtzdHJpbmd9IG91dHB1dElkIEVsZW1lbnQgSUQgb2YgdGhlIG91dHB1dCBkaXNwbGF5LgogKiBAcmV0dXJuIHshSXRlcmFibGU8IU9iamVjdD59IEl0ZXJhYmxlIG9mIG5leHQgc3RlcHMuCiAqLwpmdW5jdGlvbiogdXBsb2FkRmlsZXNTdGVwKGlucHV0SWQsIG91dHB1dElkKSB7CiAgY29uc3QgaW5wdXRFbGVtZW50ID0gZG9jdW1lbnQuZ2V0RWxlbWVudEJ5SWQoaW5wdXRJZCk7CiAgaW5wdXRFbGVtZW50LmRpc2FibGVkID0gZmFsc2U7CgogIGNvbnN0IG91dHB1dEVsZW1lbnQgPSBkb2N1bWVudC5nZXRFbGVtZW50QnlJZChvdXRwdXRJZCk7CiAgb3V0cHV0RWxlbWVudC5pbm5lckhUTUwgPSAnJzsKCiAgY29uc3QgcGlja2VkUHJvbWlzZSA9IG5ldyBQcm9taXNlKChyZXNvbHZlKSA9PiB7CiAgICBpbnB1dEVsZW1lbnQuYWRkRXZlbnRMaXN0ZW5lcignY2hhbmdlJywgKGUpID0+IHsKICAgICAgcmVzb2x2ZShlLnRhcmdldC5maWxlcyk7CiAgICB9KTsKICB9KTsKCiAgY29uc3QgY2FuY2VsID0gZG9jdW1lbnQuY3JlYXRlRWxlbWVudCgnYnV0dG9uJyk7CiAgaW5wdXRFbGVtZW50LnBhcmVudEVsZW1lbnQuYXBwZW5kQ2hpbGQoY2FuY2VsKTsKICBjYW5jZWwudGV4dENvbnRlbnQgPSAnQ2FuY2VsIHVwbG9hZCc7CiAgY29uc3QgY2FuY2VsUHJvbWlzZSA9IG5ldyBQcm9taXNlKChyZXNvbHZlKSA9PiB7CiAgICBjYW5jZWwub25jbGljayA9ICgpID0+IHsKICAgICAgcmVzb2x2ZShudWxsKTsKICAgIH07CiAgfSk7CgogIC8vIENhbmNlbCB1cGxvYWQgaWYgdXNlciBoYXNuJ3QgcGlja2VkIGFueXRoaW5nIGluIHRpbWVvdXQuCiAgY29uc3QgdGltZW91dFByb21pc2UgPSBuZXcgUHJvbWlzZSgocmVzb2x2ZSkgPT4gewogICAgc2V0VGltZW91dCgoKSA9PiB7CiAgICAgIHJlc29sdmUobnVsbCk7CiAgICB9LCBGSUxFX0NIQU5HRV9USU1FT1VUX01TKTsKICB9KTsKCiAgLy8gV2FpdCBmb3IgdGhlIHVzZXIgdG8gcGljayB0aGUgZmlsZXMuCiAgY29uc3QgZmlsZXMgPSB5aWVsZCB7CiAgICBwcm9taXNlOiBQcm9taXNlLnJhY2UoW3BpY2tlZFByb21pc2UsIHRpbWVvdXRQcm9taXNlLCBjYW5jZWxQcm9taXNlXSksCiAgICByZXNwb25zZTogewogICAgICBhY3Rpb246ICdzdGFydGluZycsCiAgICB9CiAgfTsKCiAgaWYgKCFmaWxlcykgewogICAgcmV0dXJuIHsKICAgICAgcmVzcG9uc2U6IHsKICAgICAgICBhY3Rpb246ICdjb21wbGV0ZScsCiAgICAgIH0KICAgIH07CiAgfQoKICBjYW5jZWwucmVtb3ZlKCk7CgogIC8vIERpc2FibGUgdGhlIGlucHV0IGVsZW1lbnQgc2luY2UgZnVydGhlciBwaWNrcyBhcmUgbm90IGFsbG93ZWQuCiAgaW5wdXRFbGVtZW50LmRpc2FibGVkID0gdHJ1ZTsKCiAgZm9yIChjb25zdCBmaWxlIG9mIGZpbGVzKSB7CiAgICBjb25zdCBsaSA9IGRvY3VtZW50LmNyZWF0ZUVsZW1lbnQoJ2xpJyk7CiAgICBsaS5hcHBlbmQoc3BhbihmaWxlLm5hbWUsIHtmb250V2VpZ2h0OiAnYm9sZCd9KSk7CiAgICBsaS5hcHBlbmQoc3BhbigKICAgICAgICBgKCR7ZmlsZS50eXBlIHx8ICduL2EnfSkgLSAke2ZpbGUuc2l6ZX0gYnl0ZXMsIGAgKwogICAgICAgIGBsYXN0IG1vZGlmaWVkOiAkewogICAgICAgICAgICBmaWxlLmxhc3RNb2RpZmllZERhdGUgPyBmaWxlLmxhc3RNb2RpZmllZERhdGUudG9Mb2NhbGVEYXRlU3RyaW5nKCkgOgogICAgICAgICAgICAgICAgICAgICAgICAgICAgICAgICAgICAnbi9hJ30gLSBgKSk7CiAgICBjb25zdCBwZXJjZW50ID0gc3BhbignMCUgZG9uZScpOwogICAgbGkuYXBwZW5kQ2hpbGQocGVyY2VudCk7CgogICAgb3V0cHV0RWxlbWVudC5hcHBlbmRDaGlsZChsaSk7CgogICAgY29uc3QgZmlsZURhdGFQcm9taXNlID0gbmV3IFByb21pc2UoKHJlc29sdmUpID0+IHsKICAgICAgY29uc3QgcmVhZGVyID0gbmV3IEZpbGVSZWFkZXIoKTsKICAgICAgcmVhZGVyLm9ubG9hZCA9IChlKSA9PiB7CiAgICAgICAgcmVzb2x2ZShlLnRhcmdldC5yZXN1bHQpOwogICAgICB9OwogICAgICByZWFkZXIucmVhZEFzQXJyYXlCdWZmZXIoZmlsZSk7CiAgICB9KTsKICAgIC8vIFdhaXQgZm9yIHRoZSBkYXRhIHRvIGJlIHJlYWR5LgogICAgbGV0IGZpbGVEYXRhID0geWllbGQgewogICAgICBwcm9taXNlOiBmaWxlRGF0YVByb21pc2UsCiAgICAgIHJlc3BvbnNlOiB7CiAgICAgICAgYWN0aW9uOiAnY29udGludWUnLAogICAgICB9CiAgICB9OwoKICAgIC8vIFVzZSBhIGNodW5rZWQgc2VuZGluZyB0byBhdm9pZCBtZXNzYWdlIHNpemUgbGltaXRzLiBTZWUgYi82MjExNTY2MC4KICAgIGxldCBwb3NpdGlvbiA9IDA7CiAgICB3aGlsZSAocG9zaXRpb24gPCBmaWxlRGF0YS5ieXRlTGVuZ3RoKSB7CiAgICAgIGNvbnN0IGxlbmd0aCA9IE1hdGgubWluKGZpbGVEYXRhLmJ5dGVMZW5ndGggLSBwb3NpdGlvbiwgTUFYX1BBWUxPQURfU0laRSk7CiAgICAgIGNvbnN0IGNodW5rID0gbmV3IFVpbnQ4QXJyYXkoZmlsZURhdGEsIHBvc2l0aW9uLCBsZW5ndGgpOwogICAgICBwb3NpdGlvbiArPSBsZW5ndGg7CgogICAgICBjb25zdCBiYXNlNjQgPSBidG9hKFN0cmluZy5mcm9tQ2hhckNvZGUuYXBwbHkobnVsbCwgY2h1bmspKTsKICAgICAgeWllbGQgewogICAgICAgIHJlc3BvbnNlOiB7CiAgICAgICAgICBhY3Rpb246ICdhcHBlbmQnLAogICAgICAgICAgZmlsZTogZmlsZS5uYW1lLAogICAgICAgICAgZGF0YTogYmFzZTY0LAogICAgICAgIH0sCiAgICAgIH07CiAgICAgIHBlcmNlbnQudGV4dENvbnRlbnQgPQogICAgICAgICAgYCR7TWF0aC5yb3VuZCgocG9zaXRpb24gLyBmaWxlRGF0YS5ieXRlTGVuZ3RoKSAqIDEwMCl9JSBkb25lYDsKICAgIH0KICB9CgogIC8vIEFsbCBkb25lLgogIHlpZWxkIHsKICAgIHJlc3BvbnNlOiB7CiAgICAgIGFjdGlvbjogJ2NvbXBsZXRlJywKICAgIH0KICB9Owp9CgpzY29wZS5nb29nbGUgPSBzY29wZS5nb29nbGUgfHwge307CnNjb3BlLmdvb2dsZS5jb2xhYiA9IHNjb3BlLmdvb2dsZS5jb2xhYiB8fCB7fTsKc2NvcGUuZ29vZ2xlLmNvbGFiLl9maWxlcyA9IHsKICBfdXBsb2FkRmlsZXMsCiAgX3VwbG9hZEZpbGVzQ29udGludWUsCn07Cn0pKHNlbGYpOwo=",
              "ok": true,
              "headers": [
                [
                  "content-type",
                  "application/javascript"
                ]
              ],
              "status": 200,
              "status_text": ""
            }
          },
          "base_uri": "https://localhost:8080/",
          "height": 70
        }
      },
      "source": [
        "# Import the files package\n",
        "from google.colab import files\n",
        "\n",
        "# Get a list of the csv files that have been uploaded into your colab\n",
        "# environment.\n",
        "csv_uploaded = !ls *.csv\n",
        "\n",
        "# If the metadata file is not already in the colab enviroment, load it\n",
        "if ('public_movies_metadata.csv' not in csv_uploaded):\n",
        "  uploaded = files.upload()"
      ],
      "execution_count": 0,
      "outputs": [
        {
          "output_type": "display_data",
          "data": {
            "text/html": [
              "\n",
              "     <input type=\"file\" id=\"files-50e2b988-8e79-4269-a30d-3ab0fc44bf5b\" name=\"files[]\" multiple disabled />\n",
              "     <output id=\"result-50e2b988-8e79-4269-a30d-3ab0fc44bf5b\">\n",
              "      Upload widget is only available when the cell has been executed in the\n",
              "      current browser session. Please rerun this cell to enable.\n",
              "      </output>\n",
              "      <script src=\"/nbextensions/google.colab/files.js\"></script> "
            ],
            "text/plain": [
              "<IPython.core.display.HTML object>"
            ]
          },
          "metadata": {
            "tags": []
          }
        },
        {
          "output_type": "stream",
          "text": [
            "Saving public_movies_metadata.csv to public_movies_metadata.csv\n"
          ],
          "name": "stdout"
        }
      ]
    },
    {
      "cell_type": "markdown",
      "metadata": {
        "colab_type": "text",
        "id": "6oAXhktbUH-3"
      },
      "source": [
        "#### Loading the movies database into a Pandas Dataframe Object\n",
        "\n",
        "The movies available in this dataset correspond with the movies that are listed in the [MovieLens \n",
        "Latest Full Dataset](https://grouplens.org/datasets/movielens/latest/).\n",
        "\n",
        "Let's load the data and look at the [head](https://pandas.pydata.org/pandas-docs/stable/reference/api/pandas.DataFrame.head.html) (first few rows) of the table. Note you may need to scroll right to see all the columns."
      ]
    },
    {
      "cell_type": "code",
      "metadata": {
        "colab_type": "code",
        "id": "iBL96Oi_UH-1",
        "outputId": "c4c99064-34c1-4cd2-c4d4-10b02c58f1f4",
        "colab": {
          "base_uri": "https://localhost:8080/",
          "height": 652
        }
      },
      "source": [
        "# Create a pandas [dataframe -> DataFrame] object for the dataset. Ignore\n",
        "# columns with no data.\n",
        "movies_df = pd.read_csv('public_movies_metadata.csv').dropna(axis=1, how='all')\n",
        "\n",
        "# Show the first few rows.\n",
        "movies_df.head()"
      ],
      "execution_count": 0,
      "outputs": [
        {
          "output_type": "execute_result",
          "data": {
            "text/html": [
              "<div>\n",
              "<style scoped>\n",
              "    .dataframe tbody tr th:only-of-type {\n",
              "        vertical-align: middle;\n",
              "    }\n",
              "\n",
              "    .dataframe tbody tr th {\n",
              "        vertical-align: top;\n",
              "    }\n",
              "\n",
              "    .dataframe thead th {\n",
              "        text-align: right;\n",
              "    }\n",
              "</style>\n",
              "<table border=\"1\" class=\"dataframe\">\n",
              "  <thead>\n",
              "    <tr style=\"text-align: right;\">\n",
              "      <th></th>\n",
              "      <th>belongs_to_collection</th>\n",
              "      <th>budget</th>\n",
              "      <th>genres</th>\n",
              "      <th>homepage</th>\n",
              "      <th>id</th>\n",
              "      <th>imdb_id</th>\n",
              "      <th>original_language</th>\n",
              "      <th>original_title</th>\n",
              "      <th>overview</th>\n",
              "      <th>popularity</th>\n",
              "      <th>poster_path</th>\n",
              "      <th>production_companies</th>\n",
              "      <th>production_countries</th>\n",
              "      <th>release_date</th>\n",
              "      <th>revenue</th>\n",
              "      <th>runtime</th>\n",
              "      <th>spoken_languages</th>\n",
              "      <th>status</th>\n",
              "      <th>tagline</th>\n",
              "      <th>title</th>\n",
              "      <th>video</th>\n",
              "      <th>vote_average</th>\n",
              "      <th>vote_count</th>\n",
              "    </tr>\n",
              "  </thead>\n",
              "  <tbody>\n",
              "    <tr>\n",
              "      <th>0</th>\n",
              "      <td>{'id': 10194, 'name': 'Toy Story Collection', ...</td>\n",
              "      <td>30000000</td>\n",
              "      <td>[{'id': 16, 'name': 'Animation'}, {'id': 35, '...</td>\n",
              "      <td>http://toystory.disney.com/toy-story</td>\n",
              "      <td>862.0</td>\n",
              "      <td>tt0114709</td>\n",
              "      <td>en</td>\n",
              "      <td>Toy Story</td>\n",
              "      <td>Led by Woody, Andy's toys live happily in his ...</td>\n",
              "      <td>21.946943</td>\n",
              "      <td>/rhIRbceoE9lR4veEXuwCC2wARtG.jpg</td>\n",
              "      <td>[{'name': 'Pixar Animation Studios', 'id': 3}]</td>\n",
              "      <td>[{'iso_3166_1': 'US', 'name': 'United States o...</td>\n",
              "      <td>1995-10-30</td>\n",
              "      <td>373554033.0</td>\n",
              "      <td>81.0</td>\n",
              "      <td>[{'iso_639_1': 'en', 'name': 'English'}]</td>\n",
              "      <td>Released</td>\n",
              "      <td>NaN</td>\n",
              "      <td>Toy Story</td>\n",
              "      <td>False</td>\n",
              "      <td>7.7</td>\n",
              "      <td>5415.0</td>\n",
              "    </tr>\n",
              "    <tr>\n",
              "      <th>1</th>\n",
              "      <td>NaN</td>\n",
              "      <td>65000000</td>\n",
              "      <td>[{'id': 12, 'name': 'Adventure'}, {'id': 14, '...</td>\n",
              "      <td>NaN</td>\n",
              "      <td>8844.0</td>\n",
              "      <td>tt0113497</td>\n",
              "      <td>en</td>\n",
              "      <td>Jumanji</td>\n",
              "      <td>When siblings Judy and Peter discover an encha...</td>\n",
              "      <td>17.015539</td>\n",
              "      <td>/vzmL6fP7aPKNKPRTFnZmiUfciyV.jpg</td>\n",
              "      <td>[{'name': 'TriStar Pictures', 'id': 559}, {'na...</td>\n",
              "      <td>[{'iso_3166_1': 'US', 'name': 'United States o...</td>\n",
              "      <td>1995-12-15</td>\n",
              "      <td>262797249.0</td>\n",
              "      <td>104.0</td>\n",
              "      <td>[{'iso_639_1': 'en', 'name': 'English'}, {'iso...</td>\n",
              "      <td>Released</td>\n",
              "      <td>Roll the dice and unleash the excitement!</td>\n",
              "      <td>Jumanji</td>\n",
              "      <td>False</td>\n",
              "      <td>6.9</td>\n",
              "      <td>2413.0</td>\n",
              "    </tr>\n",
              "    <tr>\n",
              "      <th>2</th>\n",
              "      <td>{'id': 119050, 'name': 'Grumpy Old Men Collect...</td>\n",
              "      <td>0</td>\n",
              "      <td>[{'id': 10749, 'name': 'Romance'}, {'id': 35, ...</td>\n",
              "      <td>NaN</td>\n",
              "      <td>15602.0</td>\n",
              "      <td>tt0113228</td>\n",
              "      <td>en</td>\n",
              "      <td>Grumpier Old Men</td>\n",
              "      <td>A family wedding reignites the ancient feud be...</td>\n",
              "      <td>11.712900</td>\n",
              "      <td>/6ksm1sjKMFLbO7UY2i6G1ju9SML.jpg</td>\n",
              "      <td>[{'name': 'Warner Bros.', 'id': 6194}, {'name'...</td>\n",
              "      <td>[{'iso_3166_1': 'US', 'name': 'United States o...</td>\n",
              "      <td>1995-12-22</td>\n",
              "      <td>0.0</td>\n",
              "      <td>101.0</td>\n",
              "      <td>[{'iso_639_1': 'en', 'name': 'English'}]</td>\n",
              "      <td>Released</td>\n",
              "      <td>Still Yelling. Still Fighting. Still Ready for...</td>\n",
              "      <td>Grumpier Old Men</td>\n",
              "      <td>False</td>\n",
              "      <td>6.5</td>\n",
              "      <td>92.0</td>\n",
              "    </tr>\n",
              "    <tr>\n",
              "      <th>3</th>\n",
              "      <td>NaN</td>\n",
              "      <td>16000000</td>\n",
              "      <td>[{'id': 35, 'name': 'Comedy'}, {'id': 18, 'nam...</td>\n",
              "      <td>NaN</td>\n",
              "      <td>31357.0</td>\n",
              "      <td>tt0114885</td>\n",
              "      <td>en</td>\n",
              "      <td>Waiting to Exhale</td>\n",
              "      <td>Cheated on, mistreated and stepped on, the wom...</td>\n",
              "      <td>3.859495</td>\n",
              "      <td>/16XOMpEaLWkrcPqSQqhTmeJuqQl.jpg</td>\n",
              "      <td>[{'name': 'Twentieth Century Fox Film Corporat...</td>\n",
              "      <td>[{'iso_3166_1': 'US', 'name': 'United States o...</td>\n",
              "      <td>1995-12-22</td>\n",
              "      <td>81452156.0</td>\n",
              "      <td>127.0</td>\n",
              "      <td>[{'iso_639_1': 'en', 'name': 'English'}]</td>\n",
              "      <td>Released</td>\n",
              "      <td>Friends are the people who let you be yourself...</td>\n",
              "      <td>Waiting to Exhale</td>\n",
              "      <td>False</td>\n",
              "      <td>6.1</td>\n",
              "      <td>34.0</td>\n",
              "    </tr>\n",
              "    <tr>\n",
              "      <th>4</th>\n",
              "      <td>{'id': 96871, 'name': 'Father of the Bride Col...</td>\n",
              "      <td>0</td>\n",
              "      <td>[{'id': 35, 'name': 'Comedy'}]</td>\n",
              "      <td>NaN</td>\n",
              "      <td>11862.0</td>\n",
              "      <td>tt0113041</td>\n",
              "      <td>en</td>\n",
              "      <td>Father of the Bride Part II</td>\n",
              "      <td>Just when George Banks has recovered from his ...</td>\n",
              "      <td>8.387519</td>\n",
              "      <td>/e64sOI48hQXyru7naBFyssKFxVd.jpg</td>\n",
              "      <td>[{'name': 'Sandollar Productions', 'id': 5842}...</td>\n",
              "      <td>[{'iso_3166_1': 'US', 'name': 'United States o...</td>\n",
              "      <td>1995-02-10</td>\n",
              "      <td>76578911.0</td>\n",
              "      <td>106.0</td>\n",
              "      <td>[{'iso_639_1': 'en', 'name': 'English'}]</td>\n",
              "      <td>Released</td>\n",
              "      <td>Just When His World Is Back To Normal... He's ...</td>\n",
              "      <td>Father of the Bride Part II</td>\n",
              "      <td>False</td>\n",
              "      <td>5.7</td>\n",
              "      <td>173.0</td>\n",
              "    </tr>\n",
              "  </tbody>\n",
              "</table>\n",
              "</div>"
            ],
            "text/plain": [
              "                               belongs_to_collection  ...  vote_count\n",
              "0  {'id': 10194, 'name': 'Toy Story Collection', ...  ...      5415.0\n",
              "1                                                NaN  ...      2413.0\n",
              "2  {'id': 119050, 'name': 'Grumpy Old Men Collect...  ...        92.0\n",
              "3                                                NaN  ...        34.0\n",
              "4  {'id': 96871, 'name': 'Father of the Bride Col...  ...       173.0\n",
              "\n",
              "[5 rows x 23 columns]"
            ]
          },
          "metadata": {
            "tags": []
          },
          "execution_count": 6
        }
      ]
    },
    {
      "cell_type": "markdown",
      "metadata": {
        "id": "J4OePM-AraMD",
        "colab_type": "text"
      },
      "source": [
        "A Pandas DataFrame has many [attributes and functions (also known as methods)](https://pandas.pydata.org/pandas-docs/stable/reference/frame.html#attributes-and-underlying-data). For example, you can use the [`shape`](https://pandas.pydata.org/pandas-docs/stable/reference/api/pandas.DataFrame.shape.html) attribute to get the dimensionality (# rows, # cols)."
      ]
    },
    {
      "cell_type": "code",
      "metadata": {
        "colab_type": "code",
        "id": "a729-5V8UH-4",
        "outputId": "9814811c-d9a7-42cc-f5d3-d9196fa7b843",
        "colab": {
          "base_uri": "https://localhost:8080/",
          "height": 34
        }
      },
      "source": [
        "movies_df.shape"
      ],
      "execution_count": 0,
      "outputs": [
        {
          "output_type": "execute_result",
          "data": {
            "text/plain": [
              "(45453, 23)"
            ]
          },
          "metadata": {
            "tags": []
          },
          "execution_count": 7
        }
      ]
    },
    {
      "cell_type": "markdown",
      "metadata": {
        "colab_type": "text",
        "id": "uqcWqV5wUH-7"
      },
      "source": [
        "Twenty-three features of 45,453 movies is going be a lot to look at... so let's start by checking the column (feature) descriptions:"
      ]
    },
    {
      "cell_type": "code",
      "metadata": {
        "colab_type": "code",
        "id": "_XnhKmO2UH-8",
        "outputId": "3b503c87-78c0-481e-b759-33443f420f8e",
        "colab": {
          "base_uri": "https://localhost:8080/",
          "height": 134
        }
      },
      "source": [
        "movies_df.columns"
      ],
      "execution_count": 0,
      "outputs": [
        {
          "output_type": "execute_result",
          "data": {
            "text/plain": [
              "Index(['belongs_to_collection', 'budget', 'genres', 'homepage', 'id',\n",
              "       'imdb_id', 'original_language', 'original_title', 'overview',\n",
              "       'popularity', 'poster_path', 'production_companies',\n",
              "       'production_countries', 'release_date', 'revenue', 'runtime',\n",
              "       'spoken_languages', 'status', 'tagline', 'title', 'video',\n",
              "       'vote_average', 'vote_count'],\n",
              "      dtype='object')"
            ]
          },
          "metadata": {
            "tags": []
          },
          "execution_count": 8
        }
      ]
    },
    {
      "cell_type": "markdown",
      "metadata": {
        "colab_type": "text",
        "id": "A6u-IoIJUH-_"
      },
      "source": [
        "Here's an explanation of each column:\n",
        "- __belongs_to_collection__: The collection that a movie belongs to (if any).\n",
        "- __budget__: The budget of the movie in dollars.\n",
        "- __genres__:  List of genres associated with the movie.\n",
        "- __homepage__: The Official Homepage of the movie.\n",
        "- __id__: An arbitrary ID for the movie.\n",
        "- __imdb_id__: The IMDB ID of the movie.\n",
        "- __original_language__: The language in which the movie was filmed.\n",
        "- __original_title__: The title of the movie in its original language.\n",
        "- __overview__: A blurb of the movie.\n",
        "- __popularity__: The Popularity Score assigned by TMDB.\n",
        "- __poster_path__: The URL of the poster image (relative to http://image.tmdb.org/t/p/w185/).\n",
        "- __production_companies__: A stringified list of production companies involved with the making of the movie.\n",
        "- __production_countries__: A stringified list of countries where the movie was filmed or produced.\n",
        "- __release_date__: Theatrical release date of the movie.\n",
        "- __revenue__: World-wide revenue of the movie in dollars.\n",
        "- __runtime__: Duration of the movie in minutes.\n",
        "- __spoken_languages__: A stringified list of spoken languages in the film.\n",
        "- __status__: Released, To Be Released, Announced, etc.\n",
        "- __tagline__: The tagline of the movie.\n",
        "- __title__: The official title of the movie.\n",
        "- __video__: Indicates if there is a video present of the movie with TMDB.\n",
        "- __vote_average__: The average rating of the movie on TMDB.\n",
        "- __vote_count__: The number of votes by users, as counted by TMDB.\n"
      ]
    },
    {
      "cell_type": "markdown",
      "metadata": {
        "id": "Fs9gsK5hI-o2",
        "colab_type": "text"
      },
      "source": [
        "### Dataframe and Series\n",
        "A [`Dataframe`](https://pandas.pydata.org/pandas-docs/stable/reference/api/pandas.DataFrame.html) holds two-dimensional tabular with labeled axes (rows and columns). [Geek for Geeks has a nice pictoral view](https://www.geeksforgeeks.org/python-pandas-dataframe/).   A [`Series`](https://pandas.pydata.org/pandas-docs/stable/reference/api/pandas.Series.html) is a column or row in a `Dataframe`. Arithmetic operations  can be performed on a row or column."
      ]
    },
    {
      "cell_type": "code",
      "metadata": {
        "id": "_4PuhnAHI-VQ",
        "colab_type": "code",
        "outputId": "4ef40de0-e028-4f37-b690-0e8be680f61e",
        "colab": {
          "base_uri": "https://localhost:8080/",
          "height": 218
        }
      },
      "source": [
        "# Let's look at the Series corresponding to a column using the column\n",
        "# labels we have provided.\n",
        "movies_df['spoken_languages']"
      ],
      "execution_count": 0,
      "outputs": [
        {
          "output_type": "execute_result",
          "data": {
            "text/plain": [
              "0                 [{'iso_639_1': 'en', 'name': 'English'}]\n",
              "1        [{'iso_639_1': 'en', 'name': 'English'}, {'iso...\n",
              "2                 [{'iso_639_1': 'en', 'name': 'English'}]\n",
              "3                 [{'iso_639_1': 'en', 'name': 'English'}]\n",
              "4                 [{'iso_639_1': 'en', 'name': 'English'}]\n",
              "                               ...                        \n",
              "45448               [{'iso_639_1': 'fa', 'name': 'فارسی'}]\n",
              "45449                    [{'iso_639_1': 'tl', 'name': ''}]\n",
              "45450             [{'iso_639_1': 'en', 'name': 'English'}]\n",
              "45451                                                   []\n",
              "45452             [{'iso_639_1': 'en', 'name': 'English'}]\n",
              "Name: spoken_languages, Length: 45453, dtype: object"
            ]
          },
          "metadata": {
            "tags": []
          },
          "execution_count": 9
        }
      ]
    },
    {
      "cell_type": "code",
      "metadata": {
        "id": "Q54jvmerK2W1",
        "colab_type": "code",
        "outputId": "571784bd-9bab-45d2-820a-51eb9ee64a8b",
        "colab": {
          "base_uri": "https://localhost:8080/",
          "height": 34
        }
      },
      "source": [
        "# We can also access an individual entry\n",
        "print(movies_df['spoken_languages'][25])"
      ],
      "execution_count": 0,
      "outputs": [
        {
          "output_type": "stream",
          "text": [
            "[{'iso_639_1': 'en', 'name': 'English'}]\n"
          ],
          "name": "stdout"
        }
      ]
    },
    {
      "cell_type": "markdown",
      "metadata": {
        "colab_type": "text",
        "id": "zgiH8REoUH_k"
      },
      "source": [
        "### Column Arithmetic\n",
        "\n",
        "We can do arithmetic on columns as if they were numbers. This applies to using multiple columns too:"
      ]
    },
    {
      "cell_type": "code",
      "metadata": {
        "colab_type": "code",
        "id": "IlujboFcUH_l",
        "outputId": "2fb66ac4-cb19-4dc2-9cf8-deec38d4755b",
        "colab": {
          "base_uri": "https://localhost:8080/",
          "height": 218
        }
      },
      "source": [
        "movies_df['revenue'] - movies_df['budget']"
      ],
      "execution_count": 0,
      "outputs": [
        {
          "output_type": "execute_result",
          "data": {
            "text/plain": [
              "0        343554033.0\n",
              "1        197797249.0\n",
              "2                0.0\n",
              "3         65452156.0\n",
              "4         76578911.0\n",
              "            ...     \n",
              "45448            0.0\n",
              "45449            0.0\n",
              "45450            0.0\n",
              "45451            0.0\n",
              "45452            0.0\n",
              "Length: 45453, dtype: float64"
            ]
          },
          "metadata": {
            "tags": []
          },
          "execution_count": 11
        }
      ]
    },
    {
      "cell_type": "markdown",
      "metadata": {
        "colab_type": "text",
        "id": "AsqhgmKfUH_t"
      },
      "source": [
        "The code below creates a new column called `profit`."
      ]
    },
    {
      "cell_type": "code",
      "metadata": {
        "colab_type": "code",
        "id": "trdRjopLUH_u",
        "outputId": "f97e1c23-0edb-48b1-ab36-8b6a7abef84d",
        "colab": {
          "base_uri": "https://localhost:8080/",
          "height": 652
        }
      },
      "source": [
        "movies_df['profit'] = movies_df['revenue'] - movies_df['budget']\n",
        "\n",
        "movies_df.head()"
      ],
      "execution_count": 0,
      "outputs": [
        {
          "output_type": "execute_result",
          "data": {
            "text/html": [
              "<div>\n",
              "<style scoped>\n",
              "    .dataframe tbody tr th:only-of-type {\n",
              "        vertical-align: middle;\n",
              "    }\n",
              "\n",
              "    .dataframe tbody tr th {\n",
              "        vertical-align: top;\n",
              "    }\n",
              "\n",
              "    .dataframe thead th {\n",
              "        text-align: right;\n",
              "    }\n",
              "</style>\n",
              "<table border=\"1\" class=\"dataframe\">\n",
              "  <thead>\n",
              "    <tr style=\"text-align: right;\">\n",
              "      <th></th>\n",
              "      <th>belongs_to_collection</th>\n",
              "      <th>budget</th>\n",
              "      <th>genres</th>\n",
              "      <th>homepage</th>\n",
              "      <th>id</th>\n",
              "      <th>imdb_id</th>\n",
              "      <th>original_language</th>\n",
              "      <th>original_title</th>\n",
              "      <th>overview</th>\n",
              "      <th>popularity</th>\n",
              "      <th>poster_path</th>\n",
              "      <th>production_companies</th>\n",
              "      <th>production_countries</th>\n",
              "      <th>release_date</th>\n",
              "      <th>revenue</th>\n",
              "      <th>runtime</th>\n",
              "      <th>spoken_languages</th>\n",
              "      <th>status</th>\n",
              "      <th>tagline</th>\n",
              "      <th>title</th>\n",
              "      <th>video</th>\n",
              "      <th>vote_average</th>\n",
              "      <th>vote_count</th>\n",
              "      <th>profit</th>\n",
              "    </tr>\n",
              "  </thead>\n",
              "  <tbody>\n",
              "    <tr>\n",
              "      <th>0</th>\n",
              "      <td>{'id': 10194, 'name': 'Toy Story Collection', ...</td>\n",
              "      <td>30000000</td>\n",
              "      <td>[{'id': 16, 'name': 'Animation'}, {'id': 35, '...</td>\n",
              "      <td>http://toystory.disney.com/toy-story</td>\n",
              "      <td>862.0</td>\n",
              "      <td>tt0114709</td>\n",
              "      <td>en</td>\n",
              "      <td>Toy Story</td>\n",
              "      <td>Led by Woody, Andy's toys live happily in his ...</td>\n",
              "      <td>21.946943</td>\n",
              "      <td>/rhIRbceoE9lR4veEXuwCC2wARtG.jpg</td>\n",
              "      <td>[{'name': 'Pixar Animation Studios', 'id': 3}]</td>\n",
              "      <td>[{'iso_3166_1': 'US', 'name': 'United States o...</td>\n",
              "      <td>1995-10-30</td>\n",
              "      <td>373554033.0</td>\n",
              "      <td>81.0</td>\n",
              "      <td>[{'iso_639_1': 'en', 'name': 'English'}]</td>\n",
              "      <td>Released</td>\n",
              "      <td>NaN</td>\n",
              "      <td>Toy Story</td>\n",
              "      <td>False</td>\n",
              "      <td>7.7</td>\n",
              "      <td>5415.0</td>\n",
              "      <td>343554033.0</td>\n",
              "    </tr>\n",
              "    <tr>\n",
              "      <th>1</th>\n",
              "      <td>NaN</td>\n",
              "      <td>65000000</td>\n",
              "      <td>[{'id': 12, 'name': 'Adventure'}, {'id': 14, '...</td>\n",
              "      <td>NaN</td>\n",
              "      <td>8844.0</td>\n",
              "      <td>tt0113497</td>\n",
              "      <td>en</td>\n",
              "      <td>Jumanji</td>\n",
              "      <td>When siblings Judy and Peter discover an encha...</td>\n",
              "      <td>17.015539</td>\n",
              "      <td>/vzmL6fP7aPKNKPRTFnZmiUfciyV.jpg</td>\n",
              "      <td>[{'name': 'TriStar Pictures', 'id': 559}, {'na...</td>\n",
              "      <td>[{'iso_3166_1': 'US', 'name': 'United States o...</td>\n",
              "      <td>1995-12-15</td>\n",
              "      <td>262797249.0</td>\n",
              "      <td>104.0</td>\n",
              "      <td>[{'iso_639_1': 'en', 'name': 'English'}, {'iso...</td>\n",
              "      <td>Released</td>\n",
              "      <td>Roll the dice and unleash the excitement!</td>\n",
              "      <td>Jumanji</td>\n",
              "      <td>False</td>\n",
              "      <td>6.9</td>\n",
              "      <td>2413.0</td>\n",
              "      <td>197797249.0</td>\n",
              "    </tr>\n",
              "    <tr>\n",
              "      <th>2</th>\n",
              "      <td>{'id': 119050, 'name': 'Grumpy Old Men Collect...</td>\n",
              "      <td>0</td>\n",
              "      <td>[{'id': 10749, 'name': 'Romance'}, {'id': 35, ...</td>\n",
              "      <td>NaN</td>\n",
              "      <td>15602.0</td>\n",
              "      <td>tt0113228</td>\n",
              "      <td>en</td>\n",
              "      <td>Grumpier Old Men</td>\n",
              "      <td>A family wedding reignites the ancient feud be...</td>\n",
              "      <td>11.712900</td>\n",
              "      <td>/6ksm1sjKMFLbO7UY2i6G1ju9SML.jpg</td>\n",
              "      <td>[{'name': 'Warner Bros.', 'id': 6194}, {'name'...</td>\n",
              "      <td>[{'iso_3166_1': 'US', 'name': 'United States o...</td>\n",
              "      <td>1995-12-22</td>\n",
              "      <td>0.0</td>\n",
              "      <td>101.0</td>\n",
              "      <td>[{'iso_639_1': 'en', 'name': 'English'}]</td>\n",
              "      <td>Released</td>\n",
              "      <td>Still Yelling. Still Fighting. Still Ready for...</td>\n",
              "      <td>Grumpier Old Men</td>\n",
              "      <td>False</td>\n",
              "      <td>6.5</td>\n",
              "      <td>92.0</td>\n",
              "      <td>0.0</td>\n",
              "    </tr>\n",
              "    <tr>\n",
              "      <th>3</th>\n",
              "      <td>NaN</td>\n",
              "      <td>16000000</td>\n",
              "      <td>[{'id': 35, 'name': 'Comedy'}, {'id': 18, 'nam...</td>\n",
              "      <td>NaN</td>\n",
              "      <td>31357.0</td>\n",
              "      <td>tt0114885</td>\n",
              "      <td>en</td>\n",
              "      <td>Waiting to Exhale</td>\n",
              "      <td>Cheated on, mistreated and stepped on, the wom...</td>\n",
              "      <td>3.859495</td>\n",
              "      <td>/16XOMpEaLWkrcPqSQqhTmeJuqQl.jpg</td>\n",
              "      <td>[{'name': 'Twentieth Century Fox Film Corporat...</td>\n",
              "      <td>[{'iso_3166_1': 'US', 'name': 'United States o...</td>\n",
              "      <td>1995-12-22</td>\n",
              "      <td>81452156.0</td>\n",
              "      <td>127.0</td>\n",
              "      <td>[{'iso_639_1': 'en', 'name': 'English'}]</td>\n",
              "      <td>Released</td>\n",
              "      <td>Friends are the people who let you be yourself...</td>\n",
              "      <td>Waiting to Exhale</td>\n",
              "      <td>False</td>\n",
              "      <td>6.1</td>\n",
              "      <td>34.0</td>\n",
              "      <td>65452156.0</td>\n",
              "    </tr>\n",
              "    <tr>\n",
              "      <th>4</th>\n",
              "      <td>{'id': 96871, 'name': 'Father of the Bride Col...</td>\n",
              "      <td>0</td>\n",
              "      <td>[{'id': 35, 'name': 'Comedy'}]</td>\n",
              "      <td>NaN</td>\n",
              "      <td>11862.0</td>\n",
              "      <td>tt0113041</td>\n",
              "      <td>en</td>\n",
              "      <td>Father of the Bride Part II</td>\n",
              "      <td>Just when George Banks has recovered from his ...</td>\n",
              "      <td>8.387519</td>\n",
              "      <td>/e64sOI48hQXyru7naBFyssKFxVd.jpg</td>\n",
              "      <td>[{'name': 'Sandollar Productions', 'id': 5842}...</td>\n",
              "      <td>[{'iso_3166_1': 'US', 'name': 'United States o...</td>\n",
              "      <td>1995-02-10</td>\n",
              "      <td>76578911.0</td>\n",
              "      <td>106.0</td>\n",
              "      <td>[{'iso_639_1': 'en', 'name': 'English'}]</td>\n",
              "      <td>Released</td>\n",
              "      <td>Just When His World Is Back To Normal... He's ...</td>\n",
              "      <td>Father of the Bride Part II</td>\n",
              "      <td>False</td>\n",
              "      <td>5.7</td>\n",
              "      <td>173.0</td>\n",
              "      <td>76578911.0</td>\n",
              "    </tr>\n",
              "  </tbody>\n",
              "</table>\n",
              "</div>"
            ],
            "text/plain": [
              "                               belongs_to_collection  ...       profit\n",
              "0  {'id': 10194, 'name': 'Toy Story Collection', ...  ...  343554033.0\n",
              "1                                                NaN  ...  197797249.0\n",
              "2  {'id': 119050, 'name': 'Grumpy Old Men Collect...  ...          0.0\n",
              "3                                                NaN  ...   65452156.0\n",
              "4  {'id': 96871, 'name': 'Father of the Bride Col...  ...   76578911.0\n",
              "\n",
              "[5 rows x 24 columns]"
            ]
          },
          "metadata": {
            "tags": []
          },
          "execution_count": 12
        }
      ]
    },
    {
      "cell_type": "markdown",
      "metadata": {
        "id": "aQbyTuS0GKkK",
        "colab_type": "text"
      },
      "source": [
        "\n",
        "### Filtering the rows \n",
        "\n",
        "We often need to look at only a subset of the data that we are provided with. This is called **filtering**. Pandas provides many ways to filter our data. **One approach is to use Python’s index operator [ ] with a boolean test inside the brackets.**\n",
        "\n",
        "For example, to consider films that lost money, create a variable called `money_loser_df` that contains all columns for the movies with revenue  less than their budget."
      ]
    },
    {
      "cell_type": "code",
      "metadata": {
        "colab_type": "code",
        "id": "E2IPSdaPUH-_",
        "outputId": "7f116b0f-0b6d-4516-aecf-44df55c40a7c",
        "colab": {
          "base_uri": "https://localhost:8080/",
          "height": 585
        }
      },
      "source": [
        "# Filter the original data by negative profit.\n",
        "money_loser_df = movies_df[movies_df.profit < 0]\n",
        "\n",
        "print(money_loser_df.shape)\n",
        "money_loser_df.head()"
      ],
      "execution_count": 0,
      "outputs": [
        {
          "output_type": "stream",
          "text": [
            "(5113, 24)\n"
          ],
          "name": "stdout"
        },
        {
          "output_type": "execute_result",
          "data": {
            "text/html": [
              "<div>\n",
              "<style scoped>\n",
              "    .dataframe tbody tr th:only-of-type {\n",
              "        vertical-align: middle;\n",
              "    }\n",
              "\n",
              "    .dataframe tbody tr th {\n",
              "        vertical-align: top;\n",
              "    }\n",
              "\n",
              "    .dataframe thead th {\n",
              "        text-align: right;\n",
              "    }\n",
              "</style>\n",
              "<table border=\"1\" class=\"dataframe\">\n",
              "  <thead>\n",
              "    <tr style=\"text-align: right;\">\n",
              "      <th></th>\n",
              "      <th>belongs_to_collection</th>\n",
              "      <th>budget</th>\n",
              "      <th>genres</th>\n",
              "      <th>homepage</th>\n",
              "      <th>id</th>\n",
              "      <th>imdb_id</th>\n",
              "      <th>original_language</th>\n",
              "      <th>original_title</th>\n",
              "      <th>overview</th>\n",
              "      <th>popularity</th>\n",
              "      <th>poster_path</th>\n",
              "      <th>production_companies</th>\n",
              "      <th>production_countries</th>\n",
              "      <th>release_date</th>\n",
              "      <th>revenue</th>\n",
              "      <th>runtime</th>\n",
              "      <th>spoken_languages</th>\n",
              "      <th>status</th>\n",
              "      <th>tagline</th>\n",
              "      <th>title</th>\n",
              "      <th>video</th>\n",
              "      <th>vote_average</th>\n",
              "      <th>vote_count</th>\n",
              "      <th>profit</th>\n",
              "    </tr>\n",
              "  </thead>\n",
              "  <tbody>\n",
              "    <tr>\n",
              "      <th>6</th>\n",
              "      <td>NaN</td>\n",
              "      <td>58000000</td>\n",
              "      <td>[{'id': 35, 'name': 'Comedy'}, {'id': 10749, '...</td>\n",
              "      <td>NaN</td>\n",
              "      <td>11860.0</td>\n",
              "      <td>tt0114319</td>\n",
              "      <td>en</td>\n",
              "      <td>Sabrina</td>\n",
              "      <td>An ugly duckling having undergone a remarkable...</td>\n",
              "      <td>6.677277</td>\n",
              "      <td>/jQh15y5YB7bWz1NtffNZmRw0s9D.jpg</td>\n",
              "      <td>[{'name': 'Paramount Pictures', 'id': 4}, {'na...</td>\n",
              "      <td>[{'iso_3166_1': 'DE', 'name': 'Germany'}, {'is...</td>\n",
              "      <td>1995-12-15</td>\n",
              "      <td>0.0</td>\n",
              "      <td>127.0</td>\n",
              "      <td>[{'iso_639_1': 'fr', 'name': 'Français'}, {'is...</td>\n",
              "      <td>Released</td>\n",
              "      <td>You are cordially invited to the most surprisi...</td>\n",
              "      <td>Sabrina</td>\n",
              "      <td>False</td>\n",
              "      <td>6.2</td>\n",
              "      <td>141.0</td>\n",
              "      <td>-58000000.0</td>\n",
              "    </tr>\n",
              "    <tr>\n",
              "      <th>13</th>\n",
              "      <td>NaN</td>\n",
              "      <td>44000000</td>\n",
              "      <td>[{'id': 36, 'name': 'History'}, {'id': 18, 'na...</td>\n",
              "      <td>NaN</td>\n",
              "      <td>10858.0</td>\n",
              "      <td>tt0113987</td>\n",
              "      <td>en</td>\n",
              "      <td>Nixon</td>\n",
              "      <td>An all-star cast powers this epic look at Amer...</td>\n",
              "      <td>5.092000</td>\n",
              "      <td>/cICkmCEiXRhvZmbuAlsA5D9B2rK.jpg</td>\n",
              "      <td>[{'name': 'Hollywood Pictures', 'id': 915}, {'...</td>\n",
              "      <td>[{'iso_3166_1': 'US', 'name': 'United States o...</td>\n",
              "      <td>1995-12-22</td>\n",
              "      <td>13681765.0</td>\n",
              "      <td>192.0</td>\n",
              "      <td>[{'iso_639_1': 'en', 'name': 'English'}]</td>\n",
              "      <td>Released</td>\n",
              "      <td>Triumphant in Victory, Bitter in Defeat. He Ch...</td>\n",
              "      <td>Nixon</td>\n",
              "      <td>False</td>\n",
              "      <td>7.1</td>\n",
              "      <td>72.0</td>\n",
              "      <td>-30318235.0</td>\n",
              "    </tr>\n",
              "    <tr>\n",
              "      <th>14</th>\n",
              "      <td>NaN</td>\n",
              "      <td>98000000</td>\n",
              "      <td>[{'id': 28, 'name': 'Action'}, {'id': 12, 'nam...</td>\n",
              "      <td>NaN</td>\n",
              "      <td>1408.0</td>\n",
              "      <td>tt0112760</td>\n",
              "      <td>en</td>\n",
              "      <td>Cutthroat Island</td>\n",
              "      <td>Morgan Adams and her slave, William Shaw, are ...</td>\n",
              "      <td>7.284477</td>\n",
              "      <td>/odM9973kIv9hcjfHPp6g6BlyTIJ.jpg</td>\n",
              "      <td>[{'name': 'Le Studio Canal+', 'id': 183}, {'na...</td>\n",
              "      <td>[{'iso_3166_1': 'FR', 'name': 'France'}, {'iso...</td>\n",
              "      <td>1995-12-22</td>\n",
              "      <td>10017322.0</td>\n",
              "      <td>119.0</td>\n",
              "      <td>[{'iso_639_1': 'en', 'name': 'English'}, {'iso...</td>\n",
              "      <td>Released</td>\n",
              "      <td>The Course Has Been Set. There Is No Turning B...</td>\n",
              "      <td>Cutthroat Island</td>\n",
              "      <td>False</td>\n",
              "      <td>5.7</td>\n",
              "      <td>137.0</td>\n",
              "      <td>-87982678.0</td>\n",
              "    </tr>\n",
              "    <tr>\n",
              "      <th>19</th>\n",
              "      <td>NaN</td>\n",
              "      <td>60000000</td>\n",
              "      <td>[{'id': 28, 'name': 'Action'}, {'id': 35, 'nam...</td>\n",
              "      <td>NaN</td>\n",
              "      <td>11517.0</td>\n",
              "      <td>tt0113845</td>\n",
              "      <td>en</td>\n",
              "      <td>Money Train</td>\n",
              "      <td>A vengeful New York transit cop decides to ste...</td>\n",
              "      <td>7.337906</td>\n",
              "      <td>/jSozzzVOR2kfXgTUuGnbgG2yRFi.jpg</td>\n",
              "      <td>[{'name': 'Columbia Pictures', 'id': 5}]</td>\n",
              "      <td>[{'iso_3166_1': 'US', 'name': 'United States o...</td>\n",
              "      <td>1995-11-21</td>\n",
              "      <td>35431113.0</td>\n",
              "      <td>103.0</td>\n",
              "      <td>[{'iso_639_1': 'en', 'name': 'English'}]</td>\n",
              "      <td>Released</td>\n",
              "      <td>Get on, or GET OUT THE WAY!</td>\n",
              "      <td>Money Train</td>\n",
              "      <td>False</td>\n",
              "      <td>5.4</td>\n",
              "      <td>224.0</td>\n",
              "      <td>-24568887.0</td>\n",
              "    </tr>\n",
              "    <tr>\n",
              "      <th>22</th>\n",
              "      <td>NaN</td>\n",
              "      <td>50000000</td>\n",
              "      <td>[{'id': 28, 'name': 'Action'}, {'id': 12, 'nam...</td>\n",
              "      <td>NaN</td>\n",
              "      <td>9691.0</td>\n",
              "      <td>tt0112401</td>\n",
              "      <td>en</td>\n",
              "      <td>Assassins</td>\n",
              "      <td>Assassin Robert Rath arrives at a funeral to k...</td>\n",
              "      <td>11.065939</td>\n",
              "      <td>/xAx5MP7Dg4y85pyS7atX6eWk4Qd.jpg</td>\n",
              "      <td>[{'name': 'Silver Pictures', 'id': 1885}, {'na...</td>\n",
              "      <td>[{'iso_3166_1': 'FR', 'name': 'France'}, {'iso...</td>\n",
              "      <td>1995-10-06</td>\n",
              "      <td>30303072.0</td>\n",
              "      <td>132.0</td>\n",
              "      <td>[{'iso_639_1': 'en', 'name': 'English'}, {'iso...</td>\n",
              "      <td>Released</td>\n",
              "      <td>In the shadows of life, In the business of dea...</td>\n",
              "      <td>Assassins</td>\n",
              "      <td>False</td>\n",
              "      <td>6.0</td>\n",
              "      <td>394.0</td>\n",
              "      <td>-19696928.0</td>\n",
              "    </tr>\n",
              "  </tbody>\n",
              "</table>\n",
              "</div>"
            ],
            "text/plain": [
              "   belongs_to_collection    budget  ... vote_count      profit\n",
              "6                    NaN  58000000  ...      141.0 -58000000.0\n",
              "13                   NaN  44000000  ...       72.0 -30318235.0\n",
              "14                   NaN  98000000  ...      137.0 -87982678.0\n",
              "19                   NaN  60000000  ...      224.0 -24568887.0\n",
              "22                   NaN  50000000  ...      394.0 -19696928.0\n",
              "\n",
              "[5 rows x 24 columns]"
            ]
          },
          "metadata": {
            "tags": []
          },
          "execution_count": 13
        }
      ]
    },
    {
      "cell_type": "markdown",
      "metadata": {
        "colab_type": "text",
        "id": "hiuq-_WVUH_C"
      },
      "source": [
        "That's more than 5000 movies that lost money! Clearly a risky business.\n",
        "\n",
        "The expression `movies_df.profit < 0` was converted to an array of True and False values by [NumPy](hhttps://en.wikipedia.org/wiki/NumPy) (the numerical Python library imported above, which specializes in numerical operations on matrices). Pandas takes that array and uses it to decide which rows to include in the output and which rows to exclude.\n"
      ]
    },
    {
      "cell_type": "markdown",
      "metadata": {
        "colab_type": "text",
        "id": "t-IJhX7OUH_K"
      },
      "source": [
        "One weird quirk of filtering with booleans is that when our test has multiple clauses (like: A and B), we don't use the standard Python syntax of `and`, `or` and `not`. Instead we must use the bitwise operators which are `&`, `|` and `!` respectively and put parentheses around each clause. So, for example, to select all movies that lost money and cost more than 1 million to make, we would use:"
      ]
    },
    {
      "cell_type": "code",
      "metadata": {
        "colab_type": "code",
        "id": "JQSp4sCbUH_L",
        "outputId": "4a4f84ec-3013-42c7-8dd2-6ac5c55ba937",
        "colab": {
          "base_uri": "https://localhost:8080/",
          "height": 568
        }
      },
      "source": [
        "expensive_failures = movies_df[(movies_df.profit < 0) & (movies_df.budget > 1000000)]\n",
        "\n",
        "expensive_failures.head()"
      ],
      "execution_count": 0,
      "outputs": [
        {
          "output_type": "execute_result",
          "data": {
            "text/html": [
              "<div>\n",
              "<style scoped>\n",
              "    .dataframe tbody tr th:only-of-type {\n",
              "        vertical-align: middle;\n",
              "    }\n",
              "\n",
              "    .dataframe tbody tr th {\n",
              "        vertical-align: top;\n",
              "    }\n",
              "\n",
              "    .dataframe thead th {\n",
              "        text-align: right;\n",
              "    }\n",
              "</style>\n",
              "<table border=\"1\" class=\"dataframe\">\n",
              "  <thead>\n",
              "    <tr style=\"text-align: right;\">\n",
              "      <th></th>\n",
              "      <th>belongs_to_collection</th>\n",
              "      <th>budget</th>\n",
              "      <th>genres</th>\n",
              "      <th>homepage</th>\n",
              "      <th>id</th>\n",
              "      <th>imdb_id</th>\n",
              "      <th>original_language</th>\n",
              "      <th>original_title</th>\n",
              "      <th>overview</th>\n",
              "      <th>popularity</th>\n",
              "      <th>poster_path</th>\n",
              "      <th>production_companies</th>\n",
              "      <th>production_countries</th>\n",
              "      <th>release_date</th>\n",
              "      <th>revenue</th>\n",
              "      <th>runtime</th>\n",
              "      <th>spoken_languages</th>\n",
              "      <th>status</th>\n",
              "      <th>tagline</th>\n",
              "      <th>title</th>\n",
              "      <th>video</th>\n",
              "      <th>vote_average</th>\n",
              "      <th>vote_count</th>\n",
              "      <th>profit</th>\n",
              "    </tr>\n",
              "  </thead>\n",
              "  <tbody>\n",
              "    <tr>\n",
              "      <th>6</th>\n",
              "      <td>NaN</td>\n",
              "      <td>58000000</td>\n",
              "      <td>[{'id': 35, 'name': 'Comedy'}, {'id': 10749, '...</td>\n",
              "      <td>NaN</td>\n",
              "      <td>11860.0</td>\n",
              "      <td>tt0114319</td>\n",
              "      <td>en</td>\n",
              "      <td>Sabrina</td>\n",
              "      <td>An ugly duckling having undergone a remarkable...</td>\n",
              "      <td>6.677277</td>\n",
              "      <td>/jQh15y5YB7bWz1NtffNZmRw0s9D.jpg</td>\n",
              "      <td>[{'name': 'Paramount Pictures', 'id': 4}, {'na...</td>\n",
              "      <td>[{'iso_3166_1': 'DE', 'name': 'Germany'}, {'is...</td>\n",
              "      <td>1995-12-15</td>\n",
              "      <td>0.0</td>\n",
              "      <td>127.0</td>\n",
              "      <td>[{'iso_639_1': 'fr', 'name': 'Français'}, {'is...</td>\n",
              "      <td>Released</td>\n",
              "      <td>You are cordially invited to the most surprisi...</td>\n",
              "      <td>Sabrina</td>\n",
              "      <td>False</td>\n",
              "      <td>6.2</td>\n",
              "      <td>141.0</td>\n",
              "      <td>-58000000.0</td>\n",
              "    </tr>\n",
              "    <tr>\n",
              "      <th>13</th>\n",
              "      <td>NaN</td>\n",
              "      <td>44000000</td>\n",
              "      <td>[{'id': 36, 'name': 'History'}, {'id': 18, 'na...</td>\n",
              "      <td>NaN</td>\n",
              "      <td>10858.0</td>\n",
              "      <td>tt0113987</td>\n",
              "      <td>en</td>\n",
              "      <td>Nixon</td>\n",
              "      <td>An all-star cast powers this epic look at Amer...</td>\n",
              "      <td>5.092000</td>\n",
              "      <td>/cICkmCEiXRhvZmbuAlsA5D9B2rK.jpg</td>\n",
              "      <td>[{'name': 'Hollywood Pictures', 'id': 915}, {'...</td>\n",
              "      <td>[{'iso_3166_1': 'US', 'name': 'United States o...</td>\n",
              "      <td>1995-12-22</td>\n",
              "      <td>13681765.0</td>\n",
              "      <td>192.0</td>\n",
              "      <td>[{'iso_639_1': 'en', 'name': 'English'}]</td>\n",
              "      <td>Released</td>\n",
              "      <td>Triumphant in Victory, Bitter in Defeat. He Ch...</td>\n",
              "      <td>Nixon</td>\n",
              "      <td>False</td>\n",
              "      <td>7.1</td>\n",
              "      <td>72.0</td>\n",
              "      <td>-30318235.0</td>\n",
              "    </tr>\n",
              "    <tr>\n",
              "      <th>14</th>\n",
              "      <td>NaN</td>\n",
              "      <td>98000000</td>\n",
              "      <td>[{'id': 28, 'name': 'Action'}, {'id': 12, 'nam...</td>\n",
              "      <td>NaN</td>\n",
              "      <td>1408.0</td>\n",
              "      <td>tt0112760</td>\n",
              "      <td>en</td>\n",
              "      <td>Cutthroat Island</td>\n",
              "      <td>Morgan Adams and her slave, William Shaw, are ...</td>\n",
              "      <td>7.284477</td>\n",
              "      <td>/odM9973kIv9hcjfHPp6g6BlyTIJ.jpg</td>\n",
              "      <td>[{'name': 'Le Studio Canal+', 'id': 183}, {'na...</td>\n",
              "      <td>[{'iso_3166_1': 'FR', 'name': 'France'}, {'iso...</td>\n",
              "      <td>1995-12-22</td>\n",
              "      <td>10017322.0</td>\n",
              "      <td>119.0</td>\n",
              "      <td>[{'iso_639_1': 'en', 'name': 'English'}, {'iso...</td>\n",
              "      <td>Released</td>\n",
              "      <td>The Course Has Been Set. There Is No Turning B...</td>\n",
              "      <td>Cutthroat Island</td>\n",
              "      <td>False</td>\n",
              "      <td>5.7</td>\n",
              "      <td>137.0</td>\n",
              "      <td>-87982678.0</td>\n",
              "    </tr>\n",
              "    <tr>\n",
              "      <th>19</th>\n",
              "      <td>NaN</td>\n",
              "      <td>60000000</td>\n",
              "      <td>[{'id': 28, 'name': 'Action'}, {'id': 35, 'nam...</td>\n",
              "      <td>NaN</td>\n",
              "      <td>11517.0</td>\n",
              "      <td>tt0113845</td>\n",
              "      <td>en</td>\n",
              "      <td>Money Train</td>\n",
              "      <td>A vengeful New York transit cop decides to ste...</td>\n",
              "      <td>7.337906</td>\n",
              "      <td>/jSozzzVOR2kfXgTUuGnbgG2yRFi.jpg</td>\n",
              "      <td>[{'name': 'Columbia Pictures', 'id': 5}]</td>\n",
              "      <td>[{'iso_3166_1': 'US', 'name': 'United States o...</td>\n",
              "      <td>1995-11-21</td>\n",
              "      <td>35431113.0</td>\n",
              "      <td>103.0</td>\n",
              "      <td>[{'iso_639_1': 'en', 'name': 'English'}]</td>\n",
              "      <td>Released</td>\n",
              "      <td>Get on, or GET OUT THE WAY!</td>\n",
              "      <td>Money Train</td>\n",
              "      <td>False</td>\n",
              "      <td>5.4</td>\n",
              "      <td>224.0</td>\n",
              "      <td>-24568887.0</td>\n",
              "    </tr>\n",
              "    <tr>\n",
              "      <th>22</th>\n",
              "      <td>NaN</td>\n",
              "      <td>50000000</td>\n",
              "      <td>[{'id': 28, 'name': 'Action'}, {'id': 12, 'nam...</td>\n",
              "      <td>NaN</td>\n",
              "      <td>9691.0</td>\n",
              "      <td>tt0112401</td>\n",
              "      <td>en</td>\n",
              "      <td>Assassins</td>\n",
              "      <td>Assassin Robert Rath arrives at a funeral to k...</td>\n",
              "      <td>11.065939</td>\n",
              "      <td>/xAx5MP7Dg4y85pyS7atX6eWk4Qd.jpg</td>\n",
              "      <td>[{'name': 'Silver Pictures', 'id': 1885}, {'na...</td>\n",
              "      <td>[{'iso_3166_1': 'FR', 'name': 'France'}, {'iso...</td>\n",
              "      <td>1995-10-06</td>\n",
              "      <td>30303072.0</td>\n",
              "      <td>132.0</td>\n",
              "      <td>[{'iso_639_1': 'en', 'name': 'English'}, {'iso...</td>\n",
              "      <td>Released</td>\n",
              "      <td>In the shadows of life, In the business of dea...</td>\n",
              "      <td>Assassins</td>\n",
              "      <td>False</td>\n",
              "      <td>6.0</td>\n",
              "      <td>394.0</td>\n",
              "      <td>-19696928.0</td>\n",
              "    </tr>\n",
              "  </tbody>\n",
              "</table>\n",
              "</div>"
            ],
            "text/plain": [
              "   belongs_to_collection    budget  ... vote_count      profit\n",
              "6                    NaN  58000000  ...      141.0 -58000000.0\n",
              "13                   NaN  44000000  ...       72.0 -30318235.0\n",
              "14                   NaN  98000000  ...      137.0 -87982678.0\n",
              "19                   NaN  60000000  ...      224.0 -24568887.0\n",
              "22                   NaN  50000000  ...      394.0 -19696928.0\n",
              "\n",
              "[5 rows x 24 columns]"
            ]
          },
          "metadata": {
            "tags": []
          },
          "execution_count": 14
        }
      ]
    },
    {
      "cell_type": "markdown",
      "metadata": {
        "colab_type": "text",
        "id": "rqZr5lzpUH_O"
      },
      "source": [
        "### Filtering by columns and rows\n",
        "\n",
        "Datasets often contain columns we don't care about. We can filter columns by using the *double* bracket notation and specifying column names:\n",
        "\n",
        "*TIP: To remember this, generally remember that single brackets filter the rows while double brackets filter the columns.*"
      ]
    },
    {
      "cell_type": "code",
      "metadata": {
        "colab_type": "code",
        "id": "1NRkoaYZUH_P",
        "outputId": "977b67f8-763c-4368-f0c5-580a1639b0a1",
        "colab": {
          "base_uri": "https://localhost:8080/",
          "height": 402
        }
      },
      "source": [
        "expensive_failures[['title', 'budget', 'revenue']]"
      ],
      "execution_count": 0,
      "outputs": [
        {
          "output_type": "execute_result",
          "data": {
            "text/html": [
              "<div>\n",
              "<style scoped>\n",
              "    .dataframe tbody tr th:only-of-type {\n",
              "        vertical-align: middle;\n",
              "    }\n",
              "\n",
              "    .dataframe tbody tr th {\n",
              "        vertical-align: top;\n",
              "    }\n",
              "\n",
              "    .dataframe thead th {\n",
              "        text-align: right;\n",
              "    }\n",
              "</style>\n",
              "<table border=\"1\" class=\"dataframe\">\n",
              "  <thead>\n",
              "    <tr style=\"text-align: right;\">\n",
              "      <th></th>\n",
              "      <th>title</th>\n",
              "      <th>budget</th>\n",
              "      <th>revenue</th>\n",
              "    </tr>\n",
              "  </thead>\n",
              "  <tbody>\n",
              "    <tr>\n",
              "      <th>6</th>\n",
              "      <td>Sabrina</td>\n",
              "      <td>58000000</td>\n",
              "      <td>0.0</td>\n",
              "    </tr>\n",
              "    <tr>\n",
              "      <th>13</th>\n",
              "      <td>Nixon</td>\n",
              "      <td>44000000</td>\n",
              "      <td>13681765.0</td>\n",
              "    </tr>\n",
              "    <tr>\n",
              "      <th>14</th>\n",
              "      <td>Cutthroat Island</td>\n",
              "      <td>98000000</td>\n",
              "      <td>10017322.0</td>\n",
              "    </tr>\n",
              "    <tr>\n",
              "      <th>19</th>\n",
              "      <td>Money Train</td>\n",
              "      <td>60000000</td>\n",
              "      <td>35431113.0</td>\n",
              "    </tr>\n",
              "    <tr>\n",
              "      <th>22</th>\n",
              "      <td>Assassins</td>\n",
              "      <td>50000000</td>\n",
              "      <td>30303072.0</td>\n",
              "    </tr>\n",
              "    <tr>\n",
              "      <th>...</th>\n",
              "      <td>...</td>\n",
              "      <td>...</td>\n",
              "      <td>...</td>\n",
              "    </tr>\n",
              "    <tr>\n",
              "      <th>45385</th>\n",
              "      <td>Thick Lashes of Lauri Mäntyvaara</td>\n",
              "      <td>1254040</td>\n",
              "      <td>0.0</td>\n",
              "    </tr>\n",
              "    <tr>\n",
              "      <th>45389</th>\n",
              "      <td>Corporate Event</td>\n",
              "      <td>2000000</td>\n",
              "      <td>0.0</td>\n",
              "    </tr>\n",
              "    <tr>\n",
              "      <th>45395</th>\n",
              "      <td>Mars</td>\n",
              "      <td>2000000</td>\n",
              "      <td>0.0</td>\n",
              "    </tr>\n",
              "    <tr>\n",
              "      <th>45399</th>\n",
              "      <td>Pro Lyuboff</td>\n",
              "      <td>2000000</td>\n",
              "      <td>1268793.0</td>\n",
              "    </tr>\n",
              "    <tr>\n",
              "      <th>45409</th>\n",
              "      <td>Antidur</td>\n",
              "      <td>5000000</td>\n",
              "      <td>1413000.0</td>\n",
              "    </tr>\n",
              "  </tbody>\n",
              "</table>\n",
              "<p>3792 rows × 3 columns</p>\n",
              "</div>"
            ],
            "text/plain": [
              "                                  title    budget     revenue\n",
              "6                               Sabrina  58000000         0.0\n",
              "13                                Nixon  44000000  13681765.0\n",
              "14                     Cutthroat Island  98000000  10017322.0\n",
              "19                          Money Train  60000000  35431113.0\n",
              "22                            Assassins  50000000  30303072.0\n",
              "...                                 ...       ...         ...\n",
              "45385  Thick Lashes of Lauri Mäntyvaara   1254040         0.0\n",
              "45389                   Corporate Event   2000000         0.0\n",
              "45395                              Mars   2000000         0.0\n",
              "45399                       Pro Lyuboff   2000000   1268793.0\n",
              "45409                           Antidur   5000000   1413000.0\n",
              "\n",
              "[3792 rows x 3 columns]"
            ]
          },
          "metadata": {
            "tags": []
          },
          "execution_count": 15
        }
      ]
    },
    {
      "cell_type": "markdown",
      "metadata": {
        "id": "2mzSbu2slQR5",
        "colab_type": "text"
      },
      "source": [
        "Recall that you can access a column of a `Dataframe` as a [`Pandas Series`](https://pandas.pydata.org/pandas-docs/stable/reference/api/pandas.Series.html).  Let's do this for the `vote_average` column of `money_loser_df`.\n",
        "\n"
      ]
    },
    {
      "cell_type": "code",
      "metadata": {
        "id": "hdniSMgolQs-",
        "colab_type": "code",
        "outputId": "fdd475e9-2bf4-42d4-a05b-cf943e3b0d5a",
        "colab": {
          "base_uri": "https://localhost:8080/",
          "height": 218
        }
      },
      "source": [
        "pd.Series(money_loser_df['vote_average'])"
      ],
      "execution_count": 0,
      "outputs": [
        {
          "output_type": "execute_result",
          "data": {
            "text/plain": [
              "6        6.2\n",
              "13       7.1\n",
              "14       5.7\n",
              "19       5.4\n",
              "22       6.0\n",
              "        ... \n",
              "45386    6.0\n",
              "45389    3.5\n",
              "45395    5.0\n",
              "45399    4.0\n",
              "45409    1.0\n",
              "Name: vote_average, Length: 5113, dtype: float64"
            ]
          },
          "metadata": {
            "tags": []
          },
          "execution_count": 16
        }
      ]
    },
    {
      "cell_type": "markdown",
      "metadata": {
        "id": "ZCQ0aQPrDb75",
        "colab_type": "text"
      },
      "source": [
        "You can get the values within a Series (without the index) using `values`."
      ]
    },
    {
      "cell_type": "code",
      "metadata": {
        "id": "HJNJPeKQDbP5",
        "colab_type": "code",
        "outputId": "0d539194-338c-4df0-872d-84a3e674a7bf",
        "colab": {
          "base_uri": "https://localhost:8080/",
          "height": 34
        }
      },
      "source": [
        "money_loser_df['vote_average'].values"
      ],
      "execution_count": 0,
      "outputs": [
        {
          "output_type": "execute_result",
          "data": {
            "text/plain": [
              "array([6.2, 7.1, 5.7, ..., 5. , 4. , 1. ])"
            ]
          },
          "metadata": {
            "tags": []
          },
          "execution_count": 17
        }
      ]
    },
    {
      "cell_type": "markdown",
      "metadata": {
        "id": "AATB3yjJBacq",
        "colab_type": "text"
      },
      "source": [
        "Instead of using the current row indices of 0, 1, 2, ....  suppose that we'd like the use the `title` of the movie as the index. We can do this by simply specifying the index we'd like to use."
      ]
    },
    {
      "cell_type": "code",
      "metadata": {
        "id": "FpNtg1kLBw7_",
        "colab_type": "code",
        "outputId": "f4f63b75-5449-4776-bf64-fe08394d8004",
        "colab": {
          "base_uri": "https://localhost:8080/",
          "height": 34
        }
      },
      "source": [
        "# Define a series using the values of the vote_average column with an index of the 'title'\n",
        "vote_lookup = pd.Series(money_loser_df['vote_average'].values, index=money_loser_df['title'])\n",
        "\n",
        "# Now lookup the vote average of 'Dead Presidents'\n",
        "vote_lookup['Dead Presidents']"
      ],
      "execution_count": 0,
      "outputs": [
        {
          "output_type": "execute_result",
          "data": {
            "text/plain": [
              "6.6"
            ]
          },
          "metadata": {
            "tags": []
          },
          "execution_count": 18
        }
      ]
    },
    {
      "cell_type": "markdown",
      "metadata": {
        "colab_type": "text",
        "id": "XMUX3HArUH_V"
      },
      "source": [
        "There are other types of filters that we can use. For example, all string predicates are accessible via a column attribute called `str`. We can then use any Python string manipulation methods on them.  For example, we can use the `startswith` predicate to find all movies that start with a particular string or letter."
      ]
    },
    {
      "cell_type": "code",
      "metadata": {
        "id": "KdHGR8s6FaMk",
        "colab_type": "code",
        "outputId": "86bc9569-55ff-4000-98ad-e563e8222185",
        "colab": {
          "base_uri": "https://localhost:8080/",
          "height": 235
        }
      },
      "source": [
        "starts_with_p = vote_lookup[vote_lookup.index.str.startswith('P')]\n",
        "print(starts_with_p)"
      ],
      "execution_count": 0,
      "outputs": [
        {
          "output_type": "stream",
          "text": [
            "title\n",
            "Pushing Hands           6.1\n",
            "Prêt-à-Porter           5.3\n",
            "Pharaoh's  Army         6.3\n",
            "Pete's Dragon           6.4\n",
            "Paths of Glory          8.2\n",
            "                       ... \n",
            "Pioneer Heroes          8.0\n",
            "Perfect Opposites       4.8\n",
            "Payback: Straight Up    6.8\n",
            "Platon                  4.8\n",
            "Pro Lyuboff             4.0\n",
            "Length: 160, dtype: float64\n"
          ],
          "name": "stdout"
        }
      ]
    },
    {
      "cell_type": "markdown",
      "metadata": {
        "id": "PoxkG7O6FoRG",
        "colab_type": "text"
      },
      "source": [
        "If you'd like, you can sort these by the title."
      ]
    },
    {
      "cell_type": "code",
      "metadata": {
        "id": "G7MnbVCAFnwZ",
        "colab_type": "code",
        "outputId": "cd625e4b-4632-4111-ea36-3e571115037f",
        "colab": {
          "base_uri": "https://localhost:8080/",
          "height": 235
        }
      },
      "source": [
        "print(starts_with_p.sort_index())"
      ],
      "execution_count": 0,
      "outputs": [
        {
          "output_type": "stream",
          "text": [
            "title\n",
            "P2                        5.7\n",
            "PCU                       6.0\n",
            "Paa                       6.6\n",
            "Padre nuestro             6.7\n",
            "Palm Trees in the Snow    7.3\n",
            "                         ... \n",
            "Purple Violets            5.7\n",
            "Pushing Hands             6.1\n",
            "Pushing Tin               5.7\n",
            "Puzzlehead                5.1\n",
            "Pyaar Ka Punchnama 2      7.7\n",
            "Length: 160, dtype: float64\n"
          ],
          "name": "stdout"
        }
      ]
    },
    {
      "cell_type": "markdown",
      "metadata": {
        "id": "jGlafzPDtjF2",
        "colab_type": "text"
      },
      "source": [
        "### Loading rating and user data from a zipfile\n",
        "So far we have just loaded metadata about the movies that are used in the [MovieLens](https://grouplens.org/datasets/movielens/) dataset.\n",
        "\n",
        "There are a variety of ways in which data can be provided. The Movie Lens user and rating data is most easily loaded from the web as a zip file and then the individual csv files are extracted."
      ]
    },
    {
      "cell_type": "code",
      "metadata": {
        "id": "YSLZq1oztYNC",
        "colab_type": "code",
        "outputId": "bff39326-b5b2-493c-a19c-f856c67d1b1b",
        "colab": {
          "base_uri": "https://localhost:8080/",
          "height": 118
        }
      },
      "source": [
        "# Download MovieLens data.\n",
        "print(\"Downloading movielens data...\")\n",
        "from urllib.request import urlretrieve\n",
        "import zipfile\n",
        "\n",
        "# We upload the zip file with the data and then unzip it.\n",
        "urlretrieve(\"http://files.grouplens.org/datasets/movielens/ml-100k.zip\", \"movielens.zip\")\n",
        "zip_ref = zipfile.ZipFile('movielens.zip', \"r\")\n",
        "zip_ref.extractall()\n",
        "print(\"Done. Dataset contains:\")\n",
        "print(zip_ref.read('ml-100k/u.info').decode('latin-1'))"
      ],
      "execution_count": 0,
      "outputs": [
        {
          "output_type": "stream",
          "text": [
            "Downloading movielens data...\n",
            "Done. Dataset contains:\n",
            "943 users\n",
            "1682 items\n",
            "100000 ratings\n",
            "\n"
          ],
          "name": "stdout"
        }
      ]
    },
    {
      "cell_type": "markdown",
      "metadata": {
        "colab_type": "text",
        "id": "YH43AcZBWLTb"
      },
      "source": [
        "Next we can load the ratings csv file into a Pandas DataFrame.  We provide the name to user for each of the columns, and can indicate the separator used in the csv file."
      ]
    },
    {
      "cell_type": "code",
      "metadata": {
        "colab_type": "code",
        "id": "2advtsROWLTb",
        "outputId": "ab710dcc-5ce5-44f0-fd62-834ebcd85385",
        "colab": {
          "base_uri": "https://localhost:8080/",
          "height": 343
        }
      },
      "source": [
        "ratings_cols = ['user_id', 'movie_id', 'rating', 'unix_timestamp']\n",
        "ratings_df = pd.read_csv(\n",
        "    'ml-100k/u.data', sep='\\t', names=ratings_cols, encoding='latin-1')\n",
        "ratings_df.head(10)"
      ],
      "execution_count": 0,
      "outputs": [
        {
          "output_type": "execute_result",
          "data": {
            "text/html": [
              "<div>\n",
              "<style scoped>\n",
              "    .dataframe tbody tr th:only-of-type {\n",
              "        vertical-align: middle;\n",
              "    }\n",
              "\n",
              "    .dataframe tbody tr th {\n",
              "        vertical-align: top;\n",
              "    }\n",
              "\n",
              "    .dataframe thead th {\n",
              "        text-align: right;\n",
              "    }\n",
              "</style>\n",
              "<table border=\"1\" class=\"dataframe\">\n",
              "  <thead>\n",
              "    <tr style=\"text-align: right;\">\n",
              "      <th></th>\n",
              "      <th>user_id</th>\n",
              "      <th>movie_id</th>\n",
              "      <th>rating</th>\n",
              "      <th>unix_timestamp</th>\n",
              "    </tr>\n",
              "  </thead>\n",
              "  <tbody>\n",
              "    <tr>\n",
              "      <th>0</th>\n",
              "      <td>196</td>\n",
              "      <td>242</td>\n",
              "      <td>3</td>\n",
              "      <td>881250949</td>\n",
              "    </tr>\n",
              "    <tr>\n",
              "      <th>1</th>\n",
              "      <td>186</td>\n",
              "      <td>302</td>\n",
              "      <td>3</td>\n",
              "      <td>891717742</td>\n",
              "    </tr>\n",
              "    <tr>\n",
              "      <th>2</th>\n",
              "      <td>22</td>\n",
              "      <td>377</td>\n",
              "      <td>1</td>\n",
              "      <td>878887116</td>\n",
              "    </tr>\n",
              "    <tr>\n",
              "      <th>3</th>\n",
              "      <td>244</td>\n",
              "      <td>51</td>\n",
              "      <td>2</td>\n",
              "      <td>880606923</td>\n",
              "    </tr>\n",
              "    <tr>\n",
              "      <th>4</th>\n",
              "      <td>166</td>\n",
              "      <td>346</td>\n",
              "      <td>1</td>\n",
              "      <td>886397596</td>\n",
              "    </tr>\n",
              "    <tr>\n",
              "      <th>5</th>\n",
              "      <td>298</td>\n",
              "      <td>474</td>\n",
              "      <td>4</td>\n",
              "      <td>884182806</td>\n",
              "    </tr>\n",
              "    <tr>\n",
              "      <th>6</th>\n",
              "      <td>115</td>\n",
              "      <td>265</td>\n",
              "      <td>2</td>\n",
              "      <td>881171488</td>\n",
              "    </tr>\n",
              "    <tr>\n",
              "      <th>7</th>\n",
              "      <td>253</td>\n",
              "      <td>465</td>\n",
              "      <td>5</td>\n",
              "      <td>891628467</td>\n",
              "    </tr>\n",
              "    <tr>\n",
              "      <th>8</th>\n",
              "      <td>305</td>\n",
              "      <td>451</td>\n",
              "      <td>3</td>\n",
              "      <td>886324817</td>\n",
              "    </tr>\n",
              "    <tr>\n",
              "      <th>9</th>\n",
              "      <td>6</td>\n",
              "      <td>86</td>\n",
              "      <td>3</td>\n",
              "      <td>883603013</td>\n",
              "    </tr>\n",
              "  </tbody>\n",
              "</table>\n",
              "</div>"
            ],
            "text/plain": [
              "   user_id  movie_id  rating  unix_timestamp\n",
              "0      196       242       3       881250949\n",
              "1      186       302       3       891717742\n",
              "2       22       377       1       878887116\n",
              "3      244        51       2       880606923\n",
              "4      166       346       1       886397596\n",
              "5      298       474       4       884182806\n",
              "6      115       265       2       881171488\n",
              "7      253       465       5       891628467\n",
              "8      305       451       3       886324817\n",
              "9        6        86       3       883603013"
            ]
          },
          "metadata": {
            "tags": []
          },
          "execution_count": 22
        }
      ]
    },
    {
      "cell_type": "markdown",
      "metadata": {
        "colab_type": "text",
        "id": "bIM5QqhVWLTf"
      },
      "source": [
        "It would be more convenient to see the time when the movie was rated as readable time. You can find how to do this using a search such as \"How to convert a unix timestamp to a readable time in python?\"\n",
        "\n",
        "A nice thing about Pandas is you can easily apply a function to all entries of a column as illustrated below where we add a human-readable time."
      ]
    },
    {
      "cell_type": "code",
      "metadata": {
        "id": "nMm3fi2iuPDw",
        "colab_type": "code",
        "outputId": "b2028894-0f44-4a89-f73e-4875a5f25c39",
        "colab": {
          "base_uri": "https://localhost:8080/",
          "height": 195
        }
      },
      "source": [
        "import time\n",
        "ratings_df['rating_time'] = ratings_df['unix_timestamp'].apply(time.ctime)\n",
        "# Let's look at the top rows of the Dataframe this created\n",
        "ratings_df.head()"
      ],
      "execution_count": 0,
      "outputs": [
        {
          "output_type": "execute_result",
          "data": {
            "text/html": [
              "<div>\n",
              "<style scoped>\n",
              "    .dataframe tbody tr th:only-of-type {\n",
              "        vertical-align: middle;\n",
              "    }\n",
              "\n",
              "    .dataframe tbody tr th {\n",
              "        vertical-align: top;\n",
              "    }\n",
              "\n",
              "    .dataframe thead th {\n",
              "        text-align: right;\n",
              "    }\n",
              "</style>\n",
              "<table border=\"1\" class=\"dataframe\">\n",
              "  <thead>\n",
              "    <tr style=\"text-align: right;\">\n",
              "      <th></th>\n",
              "      <th>user_id</th>\n",
              "      <th>movie_id</th>\n",
              "      <th>rating</th>\n",
              "      <th>unix_timestamp</th>\n",
              "      <th>rating_time</th>\n",
              "    </tr>\n",
              "  </thead>\n",
              "  <tbody>\n",
              "    <tr>\n",
              "      <th>0</th>\n",
              "      <td>196</td>\n",
              "      <td>242</td>\n",
              "      <td>3</td>\n",
              "      <td>881250949</td>\n",
              "      <td>Thu Dec  4 15:55:49 1997</td>\n",
              "    </tr>\n",
              "    <tr>\n",
              "      <th>1</th>\n",
              "      <td>186</td>\n",
              "      <td>302</td>\n",
              "      <td>3</td>\n",
              "      <td>891717742</td>\n",
              "      <td>Sat Apr  4 19:22:22 1998</td>\n",
              "    </tr>\n",
              "    <tr>\n",
              "      <th>2</th>\n",
              "      <td>22</td>\n",
              "      <td>377</td>\n",
              "      <td>1</td>\n",
              "      <td>878887116</td>\n",
              "      <td>Fri Nov  7 07:18:36 1997</td>\n",
              "    </tr>\n",
              "    <tr>\n",
              "      <th>3</th>\n",
              "      <td>244</td>\n",
              "      <td>51</td>\n",
              "      <td>2</td>\n",
              "      <td>880606923</td>\n",
              "      <td>Thu Nov 27 05:02:03 1997</td>\n",
              "    </tr>\n",
              "    <tr>\n",
              "      <th>4</th>\n",
              "      <td>166</td>\n",
              "      <td>346</td>\n",
              "      <td>1</td>\n",
              "      <td>886397596</td>\n",
              "      <td>Mon Feb  2 05:33:16 1998</td>\n",
              "    </tr>\n",
              "  </tbody>\n",
              "</table>\n",
              "</div>"
            ],
            "text/plain": [
              "   user_id  movie_id  rating  unix_timestamp               rating_time\n",
              "0      196       242       3       881250949  Thu Dec  4 15:55:49 1997\n",
              "1      186       302       3       891717742  Sat Apr  4 19:22:22 1998\n",
              "2       22       377       1       878887116  Fri Nov  7 07:18:36 1997\n",
              "3      244        51       2       880606923  Thu Nov 27 05:02:03 1997\n",
              "4      166       346       1       886397596  Mon Feb  2 05:33:16 1998"
            ]
          },
          "metadata": {
            "tags": []
          },
          "execution_count": 23
        }
      ]
    },
    {
      "cell_type": "markdown",
      "metadata": {
        "colab_type": "text",
        "id": "NMAUqQpKWLTh"
      },
      "source": [
        "Next we load data about the users that provided the ratings."
      ]
    },
    {
      "cell_type": "code",
      "metadata": {
        "colab_type": "code",
        "id": "45UFHcGmWLTi",
        "outputId": "2adc6364-5198-4daf-abdb-44f18dc58588",
        "colab": {
          "base_uri": "https://localhost:8080/",
          "height": 195
        }
      },
      "source": [
        "users_cols = ['user_id', 'age', 'sex', 'occupation', 'zip_code']\n",
        "users_df = pd.read_csv(\n",
        "    'ml-100k/u.user', sep='|', names=users_cols, encoding='latin-1')\n",
        "users_df.head()"
      ],
      "execution_count": 0,
      "outputs": [
        {
          "output_type": "execute_result",
          "data": {
            "text/html": [
              "<div>\n",
              "<style scoped>\n",
              "    .dataframe tbody tr th:only-of-type {\n",
              "        vertical-align: middle;\n",
              "    }\n",
              "\n",
              "    .dataframe tbody tr th {\n",
              "        vertical-align: top;\n",
              "    }\n",
              "\n",
              "    .dataframe thead th {\n",
              "        text-align: right;\n",
              "    }\n",
              "</style>\n",
              "<table border=\"1\" class=\"dataframe\">\n",
              "  <thead>\n",
              "    <tr style=\"text-align: right;\">\n",
              "      <th></th>\n",
              "      <th>user_id</th>\n",
              "      <th>age</th>\n",
              "      <th>sex</th>\n",
              "      <th>occupation</th>\n",
              "      <th>zip_code</th>\n",
              "    </tr>\n",
              "  </thead>\n",
              "  <tbody>\n",
              "    <tr>\n",
              "      <th>0</th>\n",
              "      <td>1</td>\n",
              "      <td>24</td>\n",
              "      <td>M</td>\n",
              "      <td>technician</td>\n",
              "      <td>85711</td>\n",
              "    </tr>\n",
              "    <tr>\n",
              "      <th>1</th>\n",
              "      <td>2</td>\n",
              "      <td>53</td>\n",
              "      <td>F</td>\n",
              "      <td>other</td>\n",
              "      <td>94043</td>\n",
              "    </tr>\n",
              "    <tr>\n",
              "      <th>2</th>\n",
              "      <td>3</td>\n",
              "      <td>23</td>\n",
              "      <td>M</td>\n",
              "      <td>writer</td>\n",
              "      <td>32067</td>\n",
              "    </tr>\n",
              "    <tr>\n",
              "      <th>3</th>\n",
              "      <td>4</td>\n",
              "      <td>24</td>\n",
              "      <td>M</td>\n",
              "      <td>technician</td>\n",
              "      <td>43537</td>\n",
              "    </tr>\n",
              "    <tr>\n",
              "      <th>4</th>\n",
              "      <td>5</td>\n",
              "      <td>33</td>\n",
              "      <td>F</td>\n",
              "      <td>other</td>\n",
              "      <td>15213</td>\n",
              "    </tr>\n",
              "  </tbody>\n",
              "</table>\n",
              "</div>"
            ],
            "text/plain": [
              "   user_id  age sex  occupation zip_code\n",
              "0        1   24   M  technician    85711\n",
              "1        2   53   F       other    94043\n",
              "2        3   23   M      writer    32067\n",
              "3        4   24   M  technician    43537\n",
              "4        5   33   F       other    15213"
            ]
          },
          "metadata": {
            "tags": []
          },
          "execution_count": 24
        }
      ]
    },
    {
      "cell_type": "markdown",
      "metadata": {
        "colab_type": "text",
        "id": "T4wvvzKoUIAN"
      },
      "source": [
        "## Exercise 1: Basic Filtering\n",
        "\n",
        "Explore the users table to answer the following questions\n",
        "\n",
        "\n",
        "*   What is the average age of the user?\n",
        "*   Generate and print a list of all occupations of the users in this data set.\n",
        "*   Create a students_df table that only includes users who list their occupation as a student, and compute the average age of these users.\n",
        "\n",
        "To help answer questions like these Pandas provides a rich set of [DataFrame functions](https://pandas.pydata.org/pandas-docs/stable/reference/frame.html).  For this exercise you will find the [Computations/descriptive stats](https://pandas.pydata.org/pandas-docs/stable/reference/frame.html#computations-descriptive-stats) functions to be useful.  If you aren't easily finding a function to meet your goal, an online search can often point you in the right direction."
      ]
    },
    {
      "cell_type": "markdown",
      "metadata": {
        "colab_type": "text",
        "id": "NiJInaRk6TbO"
      },
      "source": [
        "### Student Solution"
      ]
    },
    {
      "cell_type": "code",
      "metadata": {
        "colab_type": "code",
        "id": "HJtwrjdO6TbS",
        "colab": {}
      },
      "source": [
        "# Your code goes here"
      ],
      "execution_count": 0,
      "outputs": []
    },
    {
      "cell_type": "markdown",
      "metadata": {
        "colab_type": "text",
        "id": "xxOhpvdW6TbX"
      },
      "source": [
        "### Answer Key"
      ]
    },
    {
      "cell_type": "markdown",
      "metadata": {
        "colab_type": "text",
        "id": "357rFnmH6TbY"
      },
      "source": [
        "**Solution**"
      ]
    },
    {
      "cell_type": "code",
      "metadata": {
        "colab_type": "code",
        "id": "XKz9zVJjWLTo",
        "colab": {}
      },
      "source": [
        "print(users_df['age'].mean())"
      ],
      "execution_count": 0,
      "outputs": []
    },
    {
      "cell_type": "code",
      "metadata": {
        "colab_type": "code",
        "id": "tp2hMv4OWLTq",
        "colab": {}
      },
      "source": [
        "print(users_df['occupation'].unique())"
      ],
      "execution_count": 0,
      "outputs": []
    },
    {
      "cell_type": "code",
      "metadata": {
        "id": "3ufOXQTASiOV",
        "colab_type": "code",
        "colab": {}
      },
      "source": [
        "students_df = users_df[users_df.occupation == 'student']\n",
        "students_df['age'].mean()"
      ],
      "execution_count": 0,
      "outputs": []
    },
    {
      "cell_type": "markdown",
      "metadata": {
        "colab_type": "text",
        "id": "W6coKbXSpXOz"
      },
      "source": [
        "## Exercise 2: More Advanced Filtering\n",
        "\n",
        "Is this exercise, you are to compare the statistics (budget, popularity, revenue, runtime, vote_average, vote_count and profit) among all movies to those movies whose title include some word or substring of your choice (e.g. \"money\").  You can make use of Pandas [`describe`](https://pandas.pydata.org/pandas-docs/stable/reference/api/pandas.DataFrame.describe.html#pandas.DataFrame.describe) function to do this.\n",
        "\n",
        "In a text box below your code, answer how many movies titles have the substring you selected and what you observe about the difference in the mean between those movies and the comparable values across all movies.\n",
        "\n",
        "Since a few of the movies in this dataset do not have a title, you will need to filter out movies without a title. You may find \n",
        "```\n",
        "movies_df[movies_df['title'].isnull() == False]\n",
        "```\n",
        "to be useful since it is the subset of rows that include a title.\n",
        "\n",
        "While it may seem odd that a dataset about movies would include movies without a title, most large datasets are messy and will often have key fields missing."
      ]
    },
    {
      "cell_type": "markdown",
      "metadata": {
        "colab_type": "text",
        "id": "V-z7qTVRJo5B"
      },
      "source": [
        "### Student Solution"
      ]
    },
    {
      "cell_type": "code",
      "metadata": {
        "colab_type": "code",
        "id": "AHIY5kNXUIAP",
        "colab": {}
      },
      "source": [
        "# Your code goes here"
      ],
      "execution_count": 0,
      "outputs": []
    },
    {
      "cell_type": "markdown",
      "metadata": {
        "id": "HLuw0iFKEx81",
        "colab_type": "text"
      },
      "source": [
        "In this text box, write just a few sentences giving your observations about the the statistics ofthe movies that contain the word or substring of your choice as compared to all movies.\n",
        "\n",
        "FILL IN YOUR ANSWER HERE."
      ]
    },
    {
      "cell_type": "markdown",
      "metadata": {
        "colab_type": "text",
        "id": "exercise-1-key-1"
      },
      "source": [
        "### Answer Key"
      ]
    },
    {
      "cell_type": "markdown",
      "metadata": {
        "colab_type": "text",
        "id": "exercise-1-solution-1"
      },
      "source": [
        "**Solution**"
      ]
    },
    {
      "cell_type": "code",
      "metadata": {
        "id": "o4r9Na9OYqjz",
        "colab_type": "code",
        "colab": {}
      },
      "source": [
        "# I decided to find the average budget information for all the movies that\n",
        "# include the word money as compared to those that do not.\n",
        "\n",
        "# Need to drop Nan indices\n",
        "movies_title_df = movies_df[movies_df['title'].isnull() == False]\n",
        "movies_title_df.describe()"
      ],
      "execution_count": 0,
      "outputs": []
    },
    {
      "cell_type": "code",
      "metadata": {
        "id": "uygjQId0wHMW",
        "colab_type": "code",
        "colab": {}
      },
      "source": [
        "title_includes_money_df = movies_title_df[movies_title_df['title'].str.contains(\"Money\")]\n",
        "title_includes_money_df.describe()"
      ],
      "execution_count": 0,
      "outputs": []
    },
    {
      "cell_type": "markdown",
      "metadata": {
        "id": "59kk4ydHxdpj",
        "colab_type": "text"
      },
      "source": [
        "Note: The goal here is to have the students look at the statistics in the table and make some comments about it.\n",
        "\n",
        "There are 58 movies that contain the word \"money\".  Interestingly while the movies with \"money\" in the title were more popular and had a slightly higher vote_average, they were significantly less profitable primarily because that had a larger budget."
      ]
    },
    {
      "cell_type": "markdown",
      "metadata": {
        "colab_type": "text",
        "id": "aXSQ2uJYUH_4"
      },
      "source": [
        "## Grouping\n",
        "\n",
        "It is often useful to group data by a categorical value. For example, we might choose to group movies by language, country or origin, movie studio, etc.  Pandas provides the [`GroupBy`](https://pandas.pydata.org/pandas-docs/stable/reference/groupby.html) function to achieve this goal.\n",
        "Let's try it out with language: Note that the result is not a `DataFrame` but a `DataFrameGroupBy` object. This object has one row for each language represented in `df` but isn't a `DataFrame` because Pandas doesn't know what to do with the other columns. We need to tell Pandas how we want the entries in the other columns to be combined. Even in the case where all entries are the same (like status in the illustration below) or there's a single entry being \"grouped\" (like nl below), Pandas awaits our instructions:\n",
        "\n",
        "![group by figure](https://storage.googleapis.com/amli/public/group_by.png)\n",
        "\n",
        "In the simple case where we want to combine all values in the same way, we can call one of the combining functions directly on the `DataFrameGroupBy` object. The most common combining functions are `sum`, `mean` and `count`:"
      ]
    },
    {
      "cell_type": "code",
      "metadata": {
        "colab_type": "code",
        "id": "6I4a0GKQUH_5",
        "colab": {}
      },
      "source": [
        "original_language_averages = movies_df.groupby('original_language').mean()\n",
        "\n",
        "original_language_averages.head(20)"
      ],
      "execution_count": 0,
      "outputs": []
    },
    {
      "cell_type": "markdown",
      "metadata": {
        "colab_type": "text",
        "id": "-TfWf5YYUH_8"
      },
      "source": [
        "There are a few things to notice here:\n",
        "- non-numeric columns (like status or overview) were dropped from the output\n",
        "- the column that we grouped by (__original_language__) is no longer a column of our output `DataFrame` but is its index instead\n",
        "- some of these values are nonsensical: what does the average of an id mean?"
      ]
    },
    {
      "cell_type": "markdown",
      "metadata": {
        "colab_type": "text",
        "id": "Mh3oRCOXUH_9"
      },
      "source": [
        "You can now lookup information for a particular language:"
      ]
    },
    {
      "cell_type": "code",
      "metadata": {
        "colab_type": "code",
        "id": "nH_0c0jhUH__",
        "colab": {}
      },
      "source": [
        "original_language_averages.loc[\"fr\"]"
      ],
      "execution_count": 0,
      "outputs": []
    },
    {
      "cell_type": "markdown",
      "metadata": {
        "colab_type": "text",
        "id": "_VC_BjFEUIAC"
      },
      "source": [
        "For more fine-grained analysis, you can specify individual combining functions using the `agg` method. Below we look at the total vote count and average vote rating by language."
      ]
    },
    {
      "cell_type": "code",
      "metadata": {
        "colab_type": "code",
        "id": "cbRHObhbUIAD",
        "colab": {}
      },
      "source": [
        "movies_df.groupby('original_language').agg({'vote_count': 'sum', 'vote_average': 'mean'}).head(20)"
      ],
      "execution_count": 0,
      "outputs": []
    },
    {
      "cell_type": "markdown",
      "metadata": {
        "colab_type": "text",
        "id": "akDe3hXj526J"
      },
      "source": [
        "### Exercise 3: Grouping and Aggregating"
      ]
    },
    {
      "cell_type": "markdown",
      "metadata": {
        "colab_type": "text",
        "id": "paRu1DdN526N"
      },
      "source": [
        "Let's find the total budget for the movies in our data for recent years that has this information (we don't have a lot of budget info for really old films). To do this, let's create a `DataFrame` with a row for each year from 1990 through 2017 (inclusive) and one column: the sum of all budgets in that year.\n",
        "\n",
        "Some of the movies do not have a year, and thus will need to be dropped before we can filter by year.  You can use the [`isnull`](https://pandas.pydata.org/pandas-docs/stable/reference/api/pandas.isnull.html) function to do filter out these rows.\n",
        "\n",
        "To process the __release_date__ column to extract the year, you can use the [Pandas Series string slice function](https://pandas.pydata.org/pandas-docs/stable/reference/api/pandas.Series.str.slice.html) Also, for a string `s` you might find `s.astype(int)` to be useful to convert a string to an integer.  \n",
        "\n"
      ]
    },
    {
      "cell_type": "markdown",
      "metadata": {
        "colab_type": "text",
        "id": "OOtz-b7i526O"
      },
      "source": [
        "#### Student Solution"
      ]
    },
    {
      "cell_type": "code",
      "metadata": {
        "colab_type": "code",
        "id": "D5Ff3S6d526Q",
        "colab": {}
      },
      "source": [
        "# Your code goes here"
      ],
      "execution_count": 0,
      "outputs": []
    },
    {
      "cell_type": "markdown",
      "metadata": {
        "colab_type": "text",
        "id": "Edi8Xyf0tVNq"
      },
      "source": [
        "## Merging\n",
        "\n",
        "Frequently, data comes from different sources and has to be merged into a single data frame. For example, let's say that I have some notes about some of these movies that I want to merge:"
      ]
    },
    {
      "cell_type": "code",
      "metadata": {
        "colab_type": "code",
        "id": "LHW-MKntUIAI",
        "colab": {}
      },
      "source": [
        "movie_ratings_df = pd.merge(movies_df, ratings_df, left_on='id', right_on='movie_id')\n",
        "movie_ratings_df.head()"
      ],
      "execution_count": 0,
      "outputs": []
    },
    {
      "cell_type": "markdown",
      "metadata": {
        "id": "qKehrcAn_Zq1",
        "colab_type": "text"
      },
      "source": [
        "It would be interesting to look at both the number of user ratings for each movie as well as the average user rating from the MovieLens data. In particular, we can create a new Dataframe first grouping rows by the `title`, and then aggregate these entries computing a count of the number of ratings and the mean rating for each movie.  Further, we can sort a Dataframe based on the values in any column."
      ]
    },
    {
      "cell_type": "code",
      "metadata": {
        "id": "Rm4lIFJ9_ZcO",
        "colab_type": "code",
        "colab": {}
      },
      "source": [
        "movie_stats_df = movie_ratings_df.groupby('title', as_index=False).agg({'rating': ['count', 'mean']})\n",
        "# sort by rating average\n",
        "movie_stats_df.sort_values([('rating', 'count')], ascending=False).head()"
      ],
      "execution_count": 0,
      "outputs": []
    },
    {
      "cell_type": "markdown",
      "metadata": {
        "colab_type": "text",
        "id": "DigUm8r-WLUJ"
      },
      "source": [
        "We could instead sort by mean ratings."
      ]
    },
    {
      "cell_type": "code",
      "metadata": {
        "colab_type": "code",
        "id": "L8yV-GPjWLUK",
        "colab": {}
      },
      "source": [
        "movie_stats_df.sort_values([('rating', 'mean')], ascending=False).head()"
      ],
      "execution_count": 0,
      "outputs": []
    },
    {
      "cell_type": "markdown",
      "metadata": {
        "colab_type": "text",
        "id": "5GSNF7s3UIA3"
      },
      "source": [
        "### Exercise 4: Exploring Movie Rankings"
      ]
    },
    {
      "cell_type": "markdown",
      "metadata": {
        "colab_type": "text",
        "id": "GZFnJNRwptPk"
      },
      "source": [
        "It would be nice to find which movies are highest rated among those that received a reasonable number of ratings. Let's look at a subset of the movie_stats Dataframe that only includes movies with at least 100 ratings and find the highest and lowest rated 5 movies.  Does this change much if you instead look at movies with at least 20 ratings?"
      ]
    },
    {
      "cell_type": "markdown",
      "metadata": {
        "colab_type": "text",
        "id": "wKpzbH4VKft2"
      },
      "source": [
        "#### Student Solution"
      ]
    },
    {
      "cell_type": "code",
      "metadata": {
        "colab_type": "code",
        "id": "WH_h2hX1UIA3",
        "colab": {}
      },
      "source": [
        "# Your code goes here"
      ],
      "execution_count": 0,
      "outputs": []
    },
    {
      "cell_type": "markdown",
      "metadata": {
        "id": "drdsA_XEHJEx",
        "colab_type": "text"
      },
      "source": [
        "In this text box, write just a few sentences responding to the changes you see when looking at movies with at least 20 ratings.\n",
        "\n",
        "FILL IN YOUR ANSWER HERE."
      ]
    },
    {
      "cell_type": "markdown",
      "metadata": {
        "colab_type": "text",
        "id": "X6K0EuApA_5l"
      },
      "source": [
        "### Exercise 5: Are All Ranking Sources Consistent?"
      ]
    },
    {
      "cell_type": "markdown",
      "metadata": {
        "colab_type": "text",
        "id": "SFzMsk8jA_5p"
      },
      "source": [
        "Observe that the TMDB dataset of movies metadata (`movies_df`) includes a `vote_average` and `vote_count`.  How consistent are these ratings with respect to the user ratings in the MovieLens dataset (`movie_ratings_df`)?  Why would they rank the movies in a different order?  Find a way to look to compare these two rating systems for the top 10 movies from each rating system.\n",
        "\n",
        "You should not need to write more than about 10 lines of code to complete this exercise."
      ]
    },
    {
      "cell_type": "markdown",
      "metadata": {
        "colab_type": "text",
        "id": "bNGZ4OcBA_5r"
      },
      "source": [
        "#### Student Solution"
      ]
    },
    {
      "cell_type": "code",
      "metadata": {
        "colab_type": "code",
        "id": "u4MMprrVA_5s",
        "colab": {}
      },
      "source": [
        "# Your code goes here"
      ],
      "execution_count": 0,
      "outputs": []
    },
    {
      "cell_type": "markdown",
      "metadata": {
        "id": "NQE8X3p41vxi",
        "colab_type": "text"
      },
      "source": [
        "## Visualizing the Data: Tools & Techniques\n",
        "\n",
        "There are many tools and techniques to perform initial exploration of a dataset.  In this lab, we use several of commonly available tools and through hands-on examples - you can learn by following along and completing additional practice sections on your own.  Reference materials are provided below.\n",
        "\n",
        "  *   [NumPy](http://www.numpy.org/) and [Pandas](https://pandas.pydata.org/) are two libraries for data manipulation and analysis.\n",
        "  *   [Matplotlib](https://matplotlib.org/) provide methods to create plots and visualizations.  While we won't discuss that here, for those interested [Seaborn](https://seaborn.pydata.org/index.html) and [Altair](https://altair-viz.github.io/) provide tools to create more sophisticated plots and visualizations."
      ]
    },
    {
      "cell_type": "code",
      "metadata": {
        "cellView": "both",
        "colab_type": "code",
        "id": "E0HKFWVJ1tIX",
        "colab": {}
      },
      "source": [
        "# Imports for pyplot and seaborn\n",
        "import matplotlib\n",
        "import matplotlib.pyplot as plt\n",
        "import seaborn as sns"
      ],
      "execution_count": 0,
      "outputs": []
    },
    {
      "cell_type": "markdown",
      "metadata": {
        "colab_type": "text",
        "id": "BDhOWlWQQzza"
      },
      "source": [
        "### Generating histograms\n",
        "\n",
        "We can now dig deeper and visualize some data distributions for various columns.\n",
        "\n",
        "We start by plotting some some simple single variable distributions: user age distribution and movie rating distribution"
      ]
    },
    {
      "cell_type": "code",
      "metadata": {
        "id": "CX-Q74UL1bgQ",
        "colab_type": "code",
        "colab": {}
      },
      "source": [
        "plt.title(\"Histogram of ages of the raters\")\n",
        "users_df['age'].hist(bins=30)"
      ],
      "execution_count": 0,
      "outputs": []
    },
    {
      "cell_type": "code",
      "metadata": {
        "cellView": "both",
        "colab_type": "code",
        "id": "qtY5jUiJYA0k",
        "colab": {}
      },
      "source": [
        "plt.title(\"Distribution of movie ratings\")\n",
        "plt.ylabel('Number of user ratings of that value')\n",
        "plt.xlabel('rating')\n",
        "ratings_df['rating'].hist()\n"
      ],
      "execution_count": 0,
      "outputs": []
    },
    {
      "cell_type": "markdown",
      "metadata": {
        "colab_type": "text",
        "id": "298AL94AWLUo"
      },
      "source": [
        "An interesting thing to look at is a histogram of the number of ratings across the movies as well as the mean ratings. This can be easily done."
      ]
    },
    {
      "cell_type": "code",
      "metadata": {
        "colab_type": "code",
        "id": "hTERyujLWLUo",
        "colab": {}
      },
      "source": [
        "movie_stats_df.hist(bins=20, figsize=(15, 5))"
      ],
      "execution_count": 0,
      "outputs": []
    },
    {
      "cell_type": "markdown",
      "metadata": {
        "colab_type": "text",
        "id": "D5fysHKdUIA6"
      },
      "source": [
        "### Exercise 6: Number of Ratings per User"
      ]
    },
    {
      "cell_type": "markdown",
      "metadata": {
        "colab_type": "text",
        "id": "tORgy3QMpfbo"
      },
      "source": [
        "Create plots like done with `movie_stats` showing the number of ratings per movie and mean (average) rating over movies, to show the number of movies rated by user and the average rating of the user.\n",
        "\n",
        "How do these histograms compare to those done over movies?  What differences do you see, and why do you think those are occuring?"
      ]
    },
    {
      "cell_type": "markdown",
      "metadata": {
        "colab_type": "text",
        "id": "1SKZcrqQKpW-"
      },
      "source": [
        "#### Student Solution"
      ]
    },
    {
      "cell_type": "code",
      "metadata": {
        "colab_type": "code",
        "id": "Psh4C_OFUIA7",
        "colab": {}
      },
      "source": [
        "# Your code goes here"
      ],
      "execution_count": 0,
      "outputs": []
    },
    {
      "cell_type": "markdown",
      "metadata": {
        "id": "YcHB0jtjH4Jw",
        "colab_type": "text"
      },
      "source": [
        "In this text box, write just a few sentences as to the differences you see and why you think they are occuring.\n",
        "\n",
        "FILL IN YOUR ANSWER HERE."
      ]
    },
    {
      "cell_type": "markdown",
      "metadata": {
        "colab_type": "text",
        "id": "S9K2-AcZEkUI"
      },
      "source": [
        "## Exercise 7: Visualizations for Movie Budgets Over Time"
      ]
    },
    {
      "cell_type": "markdown",
      "metadata": {
        "colab_type": "text",
        "id": "CBrf0yimEkUJ"
      },
      "source": [
        "Let's return to Excercise 3. Looking at how the movie budget varied over time would be much easier to see as a plot.  Given a `Series` or a `DataFrame` you can call `plot()` method to obtain a plot of column values with respect to their index.  Try that out for visualizing total movie budget in a given year."
      ]
    },
    {
      "cell_type": "markdown",
      "metadata": {
        "colab_type": "text",
        "id": "P7EH0vneEkUK"
      },
      "source": [
        "#### Student Solution"
      ]
    },
    {
      "cell_type": "code",
      "metadata": {
        "colab_type": "code",
        "id": "ECfMFgI6EkUK",
        "colab": {}
      },
      "source": [
        "#your code goes here"
      ],
      "execution_count": 0,
      "outputs": []
    },
    {
      "cell_type": "markdown",
      "metadata": {
        "colab_type": "text",
        "id": "jMEA_vilDnfb"
      },
      "source": [
        "## Exercise 8: Framing a Machine Learning Problem"
      ]
    },
    {
      "cell_type": "markdown",
      "metadata": {
        "colab_type": "text",
        "id": "DZZR_dcMDnfd"
      },
      "source": [
        "In this exercise, you will use your knowledge of the Movies data to frame a machine learning task of your choice. Given what you now know about all the feature columns available, specify your task by answering the following questions:\n",
        "\n",
        "* What are the inputs (x) and the outputs (y)?\n",
        "* How will you evaluate your prediction function?\n",
        "* What is a simple logical baseline (no ML allowed!) you can use?\n",
        "* How will you split the data to avoid mis-interpretting performance?\n",
        "* How might your learned system be used and what sorts of issues can you anticipate?\n",
        "\n",
        "Then, implement your baseline and evaluate it on the full dataset (no need to split the data into train and test for this exercise).\n",
        "\n"
      ]
    },
    {
      "cell_type": "markdown",
      "metadata": {
        "colab_type": "text",
        "id": "BLq9UM1UxTFx"
      },
      "source": [
        "### Student Solution"
      ]
    },
    {
      "cell_type": "markdown",
      "metadata": {
        "colab_type": "text",
        "id": "L8VPoKEUxTF2"
      },
      "source": [
        "In this text box, write just a few sentences to answer each question.\n",
        "* What are the inputs (x) and the outputs (y)?\n",
        "\n",
        "FILL IN YOUR ANSWER HERE.\n",
        "\n",
        "* How will you evaluate your prediction function?\n",
        "\n",
        "FILL IN YOUR ANSWER HERE.\n",
        "\n",
        "* What is a simple logical baseline (no ML allowed!) you can use?\n",
        "\n",
        "FILL IN YOUR ANSWER HERE.\n",
        "\n",
        "* How will you split the data to avoid mis-interpretting performance?\n",
        "\n",
        "FILL IN YOUR ANSWER HERE.\n",
        "\n",
        "* How might your learned system be used and what sorts of issues can you anticipate?\n",
        "\n",
        "FILL IN YOUR ANSWER HERE."
      ]
    },
    {
      "cell_type": "code",
      "metadata": {
        "colab_type": "code",
        "id": "zAVDF6zRxTF0",
        "colab": {}
      },
      "source": [
        "# Your code goes here\n",
        "# To receive full credit for implementing your baseline, you can give simple\n",
        "# baseline.  No more than 15 lines of code should be given."
      ],
      "execution_count": 0,
      "outputs": []
    }
  ]
}